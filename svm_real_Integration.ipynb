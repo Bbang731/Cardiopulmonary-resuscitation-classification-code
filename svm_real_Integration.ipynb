{
 "cells": [
  {
   "cell_type": "code",
   "execution_count": 51,
   "id": "f0b981e9",
   "metadata": {},
   "outputs": [],
   "source": [
    "import numpy as np\n",
    "import pandas as pd\n",
    "from tensorflow import keras\n",
    "import tensorflow.keras\n",
    "import matplotlib\n",
    "import matplotlib.pyplot as plt\n",
    "from pathlib import Path\n",
    "from scipy.io import wavfile\n",
    "from scipy import signal\n",
    "from scipy.signal import find_peaks, peak_prominences\n",
    "from scipy.io import wavfile\n",
    "from scipy import signal, interpolate\n",
    "from scipy.interpolate import splrep, splev\n",
    "import joblib\n",
    "from xgboost import XGBClassifier\n",
    "from sklearn.preprocessing import MinMaxScaler\n",
    "\n",
    "# Data load\n",
    "\n",
    "Lucas = pd.read_csv(\"C:/Users/user/Desktop/인공지능 CPR/Beat2Beat_Data/Valid_Lucas_Error_Delete_2.csv\",dtype = 'float')#1\n"
   ]
  },
  {
   "cell_type": "code",
   "execution_count": 52,
   "id": "9e84af10",
   "metadata": {},
   "outputs": [
    {
     "data": {
      "text/plain": [
       "(4727, 25)"
      ]
     },
     "execution_count": 52,
     "metadata": {},
     "output_type": "execute_result"
    }
   ],
   "source": [
    "Lucas.shape"
   ]
  },
  {
   "cell_type": "code",
   "execution_count": 53,
   "id": "933bf700",
   "metadata": {},
   "outputs": [],
   "source": [
    "Input_Data_Beat2Beat = np.vstack([Lucas])"
   ]
  },
  {
   "cell_type": "code",
   "execution_count": 54,
   "id": "3bd23e4a",
   "metadata": {},
   "outputs": [
    {
     "data": {
      "text/plain": [
       "(4727, 25)"
      ]
     },
     "execution_count": 54,
     "metadata": {},
     "output_type": "execute_result"
    }
   ],
   "source": [
    "Input_Data_Beat2Beat.shape"
   ]
  },
  {
   "cell_type": "code",
   "execution_count": 55,
   "id": "14d18bd2",
   "metadata": {},
   "outputs": [
    {
     "data": {
      "text/plain": [
       "4727"
      ]
     },
     "execution_count": 55,
     "metadata": {},
     "output_type": "execute_result"
    }
   ],
   "source": [
    "len(Input_Data_Beat2Beat)"
   ]
  },
  {
   "cell_type": "code",
   "execution_count": 56,
   "id": "f57b8c13",
   "metadata": {
    "scrolled": true
   },
   "outputs": [
    {
     "name": "stdout",
     "output_type": "stream",
     "text": [
      "(4727, 25)\n"
     ]
    }
   ],
   "source": [
    "print(Input_Data_Beat2Beat.shape)"
   ]
  },
  {
   "cell_type": "code",
   "execution_count": 57,
   "id": "6f9eb4b8",
   "metadata": {},
   "outputs": [],
   "source": [
    "Total_Input_signal = Input_Data_Beat2Beat"
   ]
  },
  {
   "cell_type": "code",
   "execution_count": 58,
   "id": "b5fd56ab",
   "metadata": {
    "scrolled": true
   },
   "outputs": [
    {
     "name": "stdout",
     "output_type": "stream",
     "text": [
      "(4727, 25)\n"
     ]
    }
   ],
   "source": [
    "print(Total_Input_signal.shape)"
   ]
  },
  {
   "cell_type": "code",
   "execution_count": 59,
   "id": "5919a750",
   "metadata": {},
   "outputs": [
    {
     "name": "stdout",
     "output_type": "stream",
     "text": [
      "Depth: Max=  5.0 Min =  5.0\n",
      "Rate: Max=  100.0 Min =  100.0\n",
      "ABP Systolic: Max=  368.248311825279 Min =  35.4477784200666\n",
      "ABP Diastolic: Max=  43.148435025594 Min =  -56.9655177067553\n",
      "CVP Systolic: Max=  357.108375985774 Min =  12.072939693998\n",
      "CVP Diastolic: Max=  11.201996095897 Min =  -19.8917604137829\n",
      "PPG Systolic: Max=  0.0361704762680939 Min =  -0.0058188094980577\n",
      "PPG Diastolic: Max=  0.0488259008230161 Min =  -0.0011867468739715\n",
      "ETCo2: Max=  42.4294563097724 Min =  5.15407828667294\n",
      "ITP Peak: Max=  1.97779140246642 Min =  -0.0639515219775661\n",
      "MAP: Max=  110.68306845908 Min =  10.683075060074\n",
      "ABP Area: Max=  154.155545929159 Min =  15.2490579019512\n",
      "CVP Area: Max=  174.729593861127 Min =  8.82147837163213\n",
      "PPG Area: Max=  0.0014270151115014 Min =  -0.0019276500860247\n",
      "Mean ABP: Max=  130.099524720997 Min =  13.0141149237101\n",
      "ABP Difference: Max=  386.347865049299 Min =  35.3469700866599\n",
      "CVP Difference: Max=  355.316998155374 Min =  18.0190442815001\n",
      "PPG Difference: Max=  0.0167616409710602 Min =  -0.0349869340827767\n",
      "ABP Time Difference: Max=  1.01299999999992 Min =  0.298000000000002\n",
      "CVP Time Difference: Max=  1.22199999999998 Min =  0.120000000000005\n",
      "PPG Time Difference: Max=  0.706000000000017 Min =  0.0079999999999813\n",
      "Coronary Perfusion Pressure1 : Max=  25.5903221399237 Min =  -104.972783845854\n",
      "Coronary Perfusion Pressure2: Max=  41.4240773184624 Min =  -62.9062768243519\n",
      "Coronary Perfusion Pressure3: Max=  25.8345987961543 Min =  -52.2691563017424\n",
      "Carotid Volume: Max=  6.16089009800332 Min =  -1.67159166583096\n"
     ]
    }
   ],
   "source": [
    "print(\"Depth: Max= \",max(Total_Input_signal[:,0]),\"Min = \",min(Total_Input_signal[:,0]))\n",
    "print(\"Rate: Max= \",max(Total_Input_signal[:,1]),\"Min = \",min(Total_Input_signal[:,1]))\n",
    "print(\"ABP Systolic: Max= \",max(Total_Input_signal[:,2]),\"Min = \",min(Total_Input_signal[:,2]))\n",
    "print(\"ABP Diastolic: Max= \",max(Total_Input_signal[:,3]),\"Min = \",min(Total_Input_signal[:,3]))\n",
    "print(\"CVP Systolic: Max= \",max(Total_Input_signal[:,4]),\"Min = \",min(Total_Input_signal[:,4]))\n",
    "print(\"CVP Diastolic: Max= \",max(Total_Input_signal[:,5]),\"Min = \",min(Total_Input_signal[:,5]))\n",
    "print(\"PPG Systolic: Max= \",max(Total_Input_signal[:,6]),\"Min = \",min(Total_Input_signal[:,6]))\n",
    "print(\"PPG Diastolic: Max= \",max(Total_Input_signal[:,7]),\"Min = \",min(Total_Input_signal[:,7]))\n",
    "print(\"ETCo2: Max= \",max(Total_Input_signal[:,8]),\"Min = \",min(Total_Input_signal[:,8]))\n",
    "print(\"ITP Peak: Max= \",max(Total_Input_signal[:,9]),\"Min = \",min(Total_Input_signal[:,9]))\n",
    "print(\"MAP: Max= \",max(Total_Input_signal[:,10]),\"Min = \",min(Total_Input_signal[:,10]))\n",
    "print(\"ABP Area: Max= \",max(Total_Input_signal[:,11]),\"Min = \",min(Total_Input_signal[:,11]))\n",
    "print(\"CVP Area: Max= \",max(Total_Input_signal[:,12]),\"Min = \",min(Total_Input_signal[:,12]))\n",
    "print(\"PPG Area: Max= \",max(Total_Input_signal[:,13]),\"Min = \",min(Total_Input_signal[:,13]))\n",
    "print(\"Mean ABP: Max= \",max(Total_Input_signal[:,14]),\"Min = \",min(Total_Input_signal[:,14]))\n",
    "print(\"ABP Difference: Max= \",max(Total_Input_signal[:,15]),\"Min = \",min(Total_Input_signal[:,15]))\n",
    "print(\"CVP Difference: Max= \",max(Total_Input_signal[:,16]),\"Min = \",min(Total_Input_signal[:,16]))\n",
    "print(\"PPG Difference: Max= \",max(Total_Input_signal[:,17]),\"Min = \",min(Total_Input_signal[:,17]))\n",
    "print(\"ABP Time Difference: Max= \",max(Total_Input_signal[:,18]),\"Min = \",min(Total_Input_signal[:,18]))\n",
    "print(\"CVP Time Difference: Max= \",max(Total_Input_signal[:,19]),\"Min = \",min(Total_Input_signal[:,19]))\n",
    "print(\"PPG Time Difference: Max= \",max(Total_Input_signal[:,20]),\"Min = \",min(Total_Input_signal[:,20]))\n",
    "print(\"Coronary Perfusion Pressure1 : Max= \",max(Total_Input_signal[:,21]),\"Min = \",min(Total_Input_signal[:,21]))\n",
    "print(\"Coronary Perfusion Pressure2: Max= \",max(Total_Input_signal[:,22]),\"Min = \",min(Total_Input_signal[:,22]))\n",
    "print(\"Coronary Perfusion Pressure3: Max= \",max(Total_Input_signal[:,23]),\"Min = \",min(Total_Input_signal[:,23]))\n",
    "print(\"Carotid Volume: Max= \",max(Total_Input_signal[:,24]),\"Min = \",min(Total_Input_signal[:,24]))"
   ]
  },
  {
   "cell_type": "code",
   "execution_count": 60,
   "id": "c5ae89fb",
   "metadata": {},
   "outputs": [],
   "source": [
    "# 0~7 Normalize 필요\n",
    "\n",
    "def min_max_normalize(lst):\n",
    "    normalized = []\n",
    "    \n",
    "    for value in lst:\n",
    "        normalized_num = (value - min(lst)) / (max(lst) - min(lst))\n",
    "        normalized.append(normalized_num)\n",
    "    \n",
    "    return normalized\n",
    "\n",
    "Depth_Feature= np.append(Total_Input_signal[:,0],np.array([6,5]))\n",
    "Rate_Feature= np.append(Total_Input_signal[:,1],np.array([120,100]))\n",
    "\n",
    "SABP_Feature= np.append(Total_Input_signal[:,2],np.array([470,10]))\n",
    "DABP_Feature= np.append(Total_Input_signal[:,3],np.array([60,-60]))\n",
    "\n",
    "SCVP_Feature= np.append(Total_Input_signal[:,4],np.array([410,10]))\n",
    "DCVP_Feature= np.append(Total_Input_signal[:,5],np.array([50,-20]))\n",
    "\n",
    "SPPG_Feature= np.append(Total_Input_signal[:,6],np.array([0.05,-0.01]))\n",
    "DPPG_Feature= np.append(Total_Input_signal[:,7],np.array([0.05,-0.01]))\n",
    "\n",
    "ETmax = np.append(Total_Input_signal[:,8],np.array([50,5]))\n",
    "\n",
    "ITPmax = np.append(Total_Input_signal[:,9],np.array([2,-0.1]))\n",
    "\n",
    "MAP = np.append(Total_Input_signal[:,10],np.array([130,-10]))\n",
    "\n",
    "ABP_Area = np.append(Total_Input_signal[:,11],np.array([200,10]))\n",
    "\n",
    "CVP_Area = np.append(Total_Input_signal[:,12],np.array([200,2.5]))\n",
    "\n",
    "PPG_Area = np.append(Total_Input_signal[:,13],np.array([2,-2]))\n",
    "\n",
    "Mean_ABP = np.append(Total_Input_signal[:,14],np.array([140,0.7]))\n",
    "\n",
    "ABP_Difference = np.append(Total_Input_signal[:,15],np.array([400,20]))\n",
    "\n",
    "CVP_Difference = np.append(Total_Input_signal[:,16],np.array([420,0]))\n",
    "\n",
    "PPG_Difference = np.append(Total_Input_signal[:,17],np.array([0.05,-0.1]))\n",
    "\n",
    "ABP_Time_Difference = np.append(Total_Input_signal[:,18],np.array([3,0]))\n",
    "\n",
    "CVP_Time_Difference = np.append(Total_Input_signal[:,19],np.array([3,0]))\n",
    "\n",
    "PPG_Time_Difference = np.append(Total_Input_signal[:,20],np.array([1,0]))\n",
    "\n",
    "Coronary_Perfusion_Pressure1 = np.append(Total_Input_signal[:,21],np.array([300,-200]))\n",
    "\n",
    "Coronary_Perfusion_Pressure2 = np.append(Total_Input_signal[:,22],np.array([60,-60]))\n",
    "\n",
    "Coronary_Perfusion_Pressure3 = np.append(Total_Input_signal[:,23],np.array([150,-40]))"
   ]
  },
  {
   "cell_type": "code",
   "execution_count": 61,
   "id": "188e9e42",
   "metadata": {},
   "outputs": [],
   "source": [
    "Depth_Feature = np.delete(min_max_normalize(np.array(Depth_Feature)),(len(Input_Data_Beat2Beat),len(Input_Data_Beat2Beat)+1))\n",
    "Rate_Feature = np.delete(min_max_normalize(np.array(Rate_Feature)),(len(Input_Data_Beat2Beat),len(Input_Data_Beat2Beat)+1))\n",
    "SABP_Feature = np.delete(min_max_normalize(np.array(SABP_Feature)),(len(Input_Data_Beat2Beat),len(Input_Data_Beat2Beat)+1))\n",
    "DABP_Feature = np.delete(min_max_normalize(np.array(DABP_Feature)),(len(Input_Data_Beat2Beat),len(Input_Data_Beat2Beat)+1))\n",
    "SCVP_Feature = np.delete(min_max_normalize(np.array(SCVP_Feature)),(len(Input_Data_Beat2Beat),len(Input_Data_Beat2Beat)+1))\n",
    "DCVP_Feature = np.delete(min_max_normalize(np.array(DCVP_Feature)),(len(Input_Data_Beat2Beat),len(Input_Data_Beat2Beat)+1))\n",
    "SPPG_Feature = np.delete(min_max_normalize(np.array(SPPG_Feature)),(len(Input_Data_Beat2Beat),len(Input_Data_Beat2Beat)+1))\n",
    "DPPG_Feature = np.delete(min_max_normalize(np.array(DPPG_Feature)),(len(Input_Data_Beat2Beat),len(Input_Data_Beat2Beat)+1))\n",
    "ETmax = np.delete(min_max_normalize(np.array(ETmax)),(len(Input_Data_Beat2Beat),len(Input_Data_Beat2Beat)+1))\n",
    "ITPmax = np.delete(min_max_normalize(np.array(ITPmax)),(len(Input_Data_Beat2Beat),len(Input_Data_Beat2Beat)+1))\n",
    "MAP = np.delete(min_max_normalize(np.array(MAP)),(len(Input_Data_Beat2Beat),len(Input_Data_Beat2Beat)+1))\n",
    "ABP_Area = np.delete(min_max_normalize(np.array(ABP_Area)),(len(Input_Data_Beat2Beat),len(Input_Data_Beat2Beat)+1))\n",
    "CVP_Area = np.delete(min_max_normalize(np.array(CVP_Area)),(len(Input_Data_Beat2Beat),len(Input_Data_Beat2Beat)+1))\n",
    "PPG_Area = np.delete(min_max_normalize(np.array(PPG_Area)),(len(Input_Data_Beat2Beat),len(Input_Data_Beat2Beat)+1))\n",
    "Mean_ABP = np.delete(min_max_normalize(np.array(Mean_ABP)),(len(Input_Data_Beat2Beat),len(Input_Data_Beat2Beat)+1))\n",
    "ABP_Difference = np.delete(min_max_normalize(np.array(ABP_Difference)),(len(Input_Data_Beat2Beat),len(Input_Data_Beat2Beat)+1))\n",
    "CVP_Difference = np.delete(min_max_normalize(np.array(CVP_Difference)),(len(Input_Data_Beat2Beat),len(Input_Data_Beat2Beat)+1))\n",
    "PPG_Difference  = np.delete(min_max_normalize(np.array(PPG_Difference)),(len(Input_Data_Beat2Beat),len(Input_Data_Beat2Beat)+1))\n",
    "ABP_Time_Difference = np.delete(min_max_normalize(np.array(ABP_Time_Difference)),(len(Input_Data_Beat2Beat),len(Input_Data_Beat2Beat)+1))\n",
    "CVP_Time_Difference = np.delete(min_max_normalize(np.array(CVP_Time_Difference)),(len(Input_Data_Beat2Beat),len(Input_Data_Beat2Beat)+1))\n",
    "PPG_Time_Difference = np.delete(min_max_normalize(np.array(PPG_Time_Difference)),(len(Input_Data_Beat2Beat),len(Input_Data_Beat2Beat)+1))\n",
    "Coronary_Perfusion_Pressure1 = np.delete(min_max_normalize(np.array(Coronary_Perfusion_Pressure1)),(len(Input_Data_Beat2Beat),len(Input_Data_Beat2Beat)+1))\n",
    "Coronary_Perfusion_Pressure2 = np.delete(min_max_normalize(np.array(Coronary_Perfusion_Pressure2)),(len(Input_Data_Beat2Beat),len(Input_Data_Beat2Beat)+1))\n",
    "Coronary_Perfusion_Pressure3 = np.delete(min_max_normalize(np.array(Coronary_Perfusion_Pressure3)),(len(Input_Data_Beat2Beat),len(Input_Data_Beat2Beat)+1))"
   ]
  },
  {
   "cell_type": "code",
   "execution_count": 62,
   "id": "57f08923",
   "metadata": {},
   "outputs": [],
   "source": [
    "Total_Input_signal[:,0] = Depth_Feature\n",
    "Total_Input_signal[:,1] = Rate_Feature \n",
    "Total_Input_signal[:,2] = SABP_Feature\n",
    "Total_Input_signal[:,3] = DABP_Feature\n",
    "Total_Input_signal[:,4] = SCVP_Feature\n",
    "Total_Input_signal[:,5] = DCVP_Feature\n",
    "Total_Input_signal[:,6] = SPPG_Feature\n",
    "Total_Input_signal[:,7] = DPPG_Feature\n",
    "Total_Input_signal[:,8] = ETmax\n",
    "Total_Input_signal[:,9] = ITPmax\n",
    "Total_Input_signal[:,10] = MAP\n",
    "Total_Input_signal[:,11] = ABP_Area\n",
    "Total_Input_signal[:,12] = CVP_Area\n",
    "Total_Input_signal[:,13] = PPG_Area\n",
    "Total_Input_signal[:,14] = Mean_ABP\n",
    "Total_Input_signal[:,15] = ABP_Difference\n",
    "Total_Input_signal[:,16] = CVP_Difference\n",
    "Total_Input_signal[:,17] = PPG_Difference\n",
    "Total_Input_signal[:,18] = ABP_Time_Difference\n",
    "Total_Input_signal[:,19] = CVP_Time_Difference\n",
    "Total_Input_signal[:,20] = PPG_Time_Difference\n",
    "Total_Input_signal[:,21] = Coronary_Perfusion_Pressure1\n",
    "Total_Input_signal[:,22] = Coronary_Perfusion_Pressure2\n",
    "Total_Input_signal[:,23] = Coronary_Perfusion_Pressure3"
   ]
  },
  {
   "cell_type": "code",
   "execution_count": 63,
   "id": "055ade9a",
   "metadata": {},
   "outputs": [],
   "source": [
    "Total_Input_signal = pd.DataFrame(Total_Input_signal)"
   ]
  },
  {
   "cell_type": "code",
   "execution_count": 64,
   "id": "d24deed9",
   "metadata": {},
   "outputs": [],
   "source": [
    "# Rosc 0 평균 Beat Carotid Volume = 0.99 ml\n",
    "# Rosc X 평균 Beat Carotid Volume = 0.56 ml\n",
    "Carotid_data_62 = np.zeros(shape=(len(Total_Input_signal)), dtype =np.int8)\n",
    "Carotid_data_68 = np.zeros(shape=(len(Total_Input_signal)), dtype =np.int8)\n",
    "Carotid_data_89 = np.zeros(shape=(len(Total_Input_signal)), dtype =np.int8)\n",
    "Carotid_data_1 = np.zeros(shape=(len(Total_Input_signal)), dtype =np.int8)\n",
    "\n"
   ]
  },
  {
   "cell_type": "code",
   "execution_count": 66,
   "id": "e8016806",
   "metadata": {},
   "outputs": [],
   "source": [
    "# 0.68\n",
    "for i in range(0,len(Total_Input_signal)):\n",
    "    if Total_Input_signal.iloc[i,24] <= 0.6851:\n",
    "        Carotid_data_68 [i] = 0\n",
    "    elif Total_Input_signal.iloc[i,24] > 0.6851:\n",
    "        Carotid_data_68 [i] = 1"
   ]
  },
  {
   "cell_type": "code",
   "execution_count": 69,
   "id": "73341bb5",
   "metadata": {},
   "outputs": [],
   "source": [
    "Carotid_Threshold_value =[]\n",
    "Carotid_Threshold_value = np.transpose(np.vstack([Carotid_data_62,Carotid_data_68,Carotid_data_89,Carotid_data_1]))"
   ]
  },
  {
   "cell_type": "code",
   "execution_count": 70,
   "id": "f0c58645",
   "metadata": {},
   "outputs": [],
   "source": [
    "Total_Input_signal = np.hstack((Total_Input_signal,Carotid_Threshold_value))"
   ]
  },
  {
   "cell_type": "code",
   "execution_count": 71,
   "id": "e5dac867",
   "metadata": {},
   "outputs": [],
   "source": [
    "Total_Input_signal = pd.DataFrame(Total_Input_signal)"
   ]
  },
  {
   "cell_type": "code",
   "execution_count": 72,
   "id": "3d94dd3f",
   "metadata": {},
   "outputs": [],
   "source": [
    "Total_Input_signal = Total_Input_signal.set_axis(['Depth','Rate','SABP','DABP','SCVP','DCVP','SPPG','DPPG','ETpeaks','ITPpeaks','MAP','ABP_Area','CVP_Area','PPG_Area','Mean ABP','ABP Difference','CVP Difference','PPG Difference', 'ABP Time Difference','CVP Time Difference','PPG Time Difference','CPP1','CPP2','CPP3','Carotid Volume','0.62','0.68','0.89','1'],axis = 'columns')"
   ]
  },
  {
   "cell_type": "code",
   "execution_count": 73,
   "id": "e46e652f",
   "metadata": {
    "scrolled": false
   },
   "outputs": [
    {
     "data": {
      "text/html": [
       "<div>\n",
       "<style scoped>\n",
       "    .dataframe tbody tr th:only-of-type {\n",
       "        vertical-align: middle;\n",
       "    }\n",
       "\n",
       "    .dataframe tbody tr th {\n",
       "        vertical-align: top;\n",
       "    }\n",
       "\n",
       "    .dataframe thead th {\n",
       "        text-align: right;\n",
       "    }\n",
       "</style>\n",
       "<table border=\"1\" class=\"dataframe\">\n",
       "  <thead>\n",
       "    <tr style=\"text-align: right;\">\n",
       "      <th></th>\n",
       "      <th>Depth</th>\n",
       "      <th>Rate</th>\n",
       "      <th>SABP</th>\n",
       "      <th>DABP</th>\n",
       "      <th>SCVP</th>\n",
       "      <th>DCVP</th>\n",
       "      <th>SPPG</th>\n",
       "      <th>DPPG</th>\n",
       "      <th>ETpeaks</th>\n",
       "      <th>ITPpeaks</th>\n",
       "      <th>MAP</th>\n",
       "      <th>ABP_Area</th>\n",
       "      <th>CVP_Area</th>\n",
       "      <th>PPG_Area</th>\n",
       "      <th>Mean ABP</th>\n",
       "      <th>ABP Difference</th>\n",
       "      <th>CVP Difference</th>\n",
       "      <th>PPG Difference</th>\n",
       "      <th>ABP Time Difference</th>\n",
       "      <th>CVP Time Difference</th>\n",
       "      <th>PPG Time Difference</th>\n",
       "      <th>CPP1</th>\n",
       "      <th>CPP2</th>\n",
       "      <th>CPP3</th>\n",
       "      <th>Carotid Volume</th>\n",
       "      <th>0.62</th>\n",
       "      <th>0.68</th>\n",
       "      <th>0.89</th>\n",
       "      <th>1</th>\n",
       "    </tr>\n",
       "  </thead>\n",
       "  <tbody>\n",
       "    <tr>\n",
       "      <th>0</th>\n",
       "      <td>0.0</td>\n",
       "      <td>0.0</td>\n",
       "      <td>0.517805</td>\n",
       "      <td>0.431428</td>\n",
       "      <td>0.633759</td>\n",
       "      <td>0.213226</td>\n",
       "      <td>0.172589</td>\n",
       "      <td>0.178529</td>\n",
       "      <td>0.315266</td>\n",
       "      <td>0.133802</td>\n",
       "      <td>0.623174</td>\n",
       "      <td>0.416229</td>\n",
       "      <td>0.454481</td>\n",
       "      <td>0.500085</td>\n",
       "      <td>0.537127</td>\n",
       "      <td>0.622155</td>\n",
       "      <td>0.639471</td>\n",
       "      <td>0.664291</td>\n",
       "      <td>0.163333</td>\n",
       "      <td>0.163667</td>\n",
       "      <td>0.378</td>\n",
       "      <td>0.369374</td>\n",
       "      <td>0.486158</td>\n",
       "      <td>0.242709</td>\n",
       "      <td>4.607660</td>\n",
       "      <td>1.0</td>\n",
       "      <td>1.0</td>\n",
       "      <td>1.0</td>\n",
       "      <td>1.0</td>\n",
       "    </tr>\n",
       "    <tr>\n",
       "      <th>1</th>\n",
       "      <td>0.0</td>\n",
       "      <td>0.0</td>\n",
       "      <td>0.519309</td>\n",
       "      <td>0.428999</td>\n",
       "      <td>0.635732</td>\n",
       "      <td>0.213245</td>\n",
       "      <td>0.156359</td>\n",
       "      <td>0.211896</td>\n",
       "      <td>0.315266</td>\n",
       "      <td>0.128295</td>\n",
       "      <td>0.623434</td>\n",
       "      <td>0.419115</td>\n",
       "      <td>0.457754</td>\n",
       "      <td>0.500026</td>\n",
       "      <td>0.541387</td>\n",
       "      <td>0.624743</td>\n",
       "      <td>0.641347</td>\n",
       "      <td>0.644452</td>\n",
       "      <td>0.163667</td>\n",
       "      <td>0.163333</td>\n",
       "      <td>0.361</td>\n",
       "      <td>0.369179</td>\n",
       "      <td>0.483775</td>\n",
       "      <td>0.242225</td>\n",
       "      <td>4.544113</td>\n",
       "      <td>1.0</td>\n",
       "      <td>1.0</td>\n",
       "      <td>1.0</td>\n",
       "      <td>1.0</td>\n",
       "    </tr>\n",
       "    <tr>\n",
       "      <th>2</th>\n",
       "      <td>0.0</td>\n",
       "      <td>0.0</td>\n",
       "      <td>0.521883</td>\n",
       "      <td>0.430840</td>\n",
       "      <td>0.640206</td>\n",
       "      <td>0.214943</td>\n",
       "      <td>0.175741</td>\n",
       "      <td>0.214243</td>\n",
       "      <td>0.315266</td>\n",
       "      <td>0.123927</td>\n",
       "      <td>0.627304</td>\n",
       "      <td>0.419194</td>\n",
       "      <td>0.458134</td>\n",
       "      <td>0.499955</td>\n",
       "      <td>0.541483</td>\n",
       "      <td>0.627277</td>\n",
       "      <td>0.645325</td>\n",
       "      <td>0.651266</td>\n",
       "      <td>0.164000</td>\n",
       "      <td>0.164667</td>\n",
       "      <td>0.197</td>\n",
       "      <td>0.367967</td>\n",
       "      <td>0.484605</td>\n",
       "      <td>0.241928</td>\n",
       "      <td>4.525881</td>\n",
       "      <td>1.0</td>\n",
       "      <td>1.0</td>\n",
       "      <td>1.0</td>\n",
       "      <td>1.0</td>\n",
       "    </tr>\n",
       "    <tr>\n",
       "      <th>3</th>\n",
       "      <td>0.0</td>\n",
       "      <td>0.0</td>\n",
       "      <td>0.527984</td>\n",
       "      <td>0.430171</td>\n",
       "      <td>0.647397</td>\n",
       "      <td>0.214132</td>\n",
       "      <td>0.206375</td>\n",
       "      <td>0.191000</td>\n",
       "      <td>0.315266</td>\n",
       "      <td>0.220838</td>\n",
       "      <td>0.633604</td>\n",
       "      <td>0.421870</td>\n",
       "      <td>0.460139</td>\n",
       "      <td>0.499927</td>\n",
       "      <td>0.542731</td>\n",
       "      <td>0.634873</td>\n",
       "      <td>0.652309</td>\n",
       "      <td>0.672817</td>\n",
       "      <td>0.164333</td>\n",
       "      <td>0.165000</td>\n",
       "      <td>0.362</td>\n",
       "      <td>0.367827</td>\n",
       "      <td>0.484415</td>\n",
       "      <td>0.242484</td>\n",
       "      <td>4.579202</td>\n",
       "      <td>1.0</td>\n",
       "      <td>1.0</td>\n",
       "      <td>1.0</td>\n",
       "      <td>1.0</td>\n",
       "    </tr>\n",
       "    <tr>\n",
       "      <th>4</th>\n",
       "      <td>0.0</td>\n",
       "      <td>0.0</td>\n",
       "      <td>0.524711</td>\n",
       "      <td>0.448128</td>\n",
       "      <td>0.643306</td>\n",
       "      <td>0.250364</td>\n",
       "      <td>0.212921</td>\n",
       "      <td>0.172863</td>\n",
       "      <td>0.305716</td>\n",
       "      <td>0.540942</td>\n",
       "      <td>0.640280</td>\n",
       "      <td>0.422324</td>\n",
       "      <td>0.460197</td>\n",
       "      <td>0.499977</td>\n",
       "      <td>0.544168</td>\n",
       "      <td>0.625241</td>\n",
       "      <td>0.642374</td>\n",
       "      <td>0.682690</td>\n",
       "      <td>0.164000</td>\n",
       "      <td>0.165333</td>\n",
       "      <td>0.384</td>\n",
       "      <td>0.368089</td>\n",
       "      <td>0.481311</td>\n",
       "      <td>0.242853</td>\n",
       "      <td>4.615489</td>\n",
       "      <td>1.0</td>\n",
       "      <td>1.0</td>\n",
       "      <td>1.0</td>\n",
       "      <td>1.0</td>\n",
       "    </tr>\n",
       "    <tr>\n",
       "      <th>...</th>\n",
       "      <td>...</td>\n",
       "      <td>...</td>\n",
       "      <td>...</td>\n",
       "      <td>...</td>\n",
       "      <td>...</td>\n",
       "      <td>...</td>\n",
       "      <td>...</td>\n",
       "      <td>...</td>\n",
       "      <td>...</td>\n",
       "      <td>...</td>\n",
       "      <td>...</td>\n",
       "      <td>...</td>\n",
       "      <td>...</td>\n",
       "      <td>...</td>\n",
       "      <td>...</td>\n",
       "      <td>...</td>\n",
       "      <td>...</td>\n",
       "      <td>...</td>\n",
       "      <td>...</td>\n",
       "      <td>...</td>\n",
       "      <td>...</td>\n",
       "      <td>...</td>\n",
       "      <td>...</td>\n",
       "      <td>...</td>\n",
       "      <td>...</td>\n",
       "      <td>...</td>\n",
       "      <td>...</td>\n",
       "      <td>...</td>\n",
       "      <td>...</td>\n",
       "    </tr>\n",
       "    <tr>\n",
       "      <th>4722</th>\n",
       "      <td>0.0</td>\n",
       "      <td>0.0</td>\n",
       "      <td>0.405321</td>\n",
       "      <td>0.720855</td>\n",
       "      <td>0.493426</td>\n",
       "      <td>0.301291</td>\n",
       "      <td>0.237774</td>\n",
       "      <td>0.226020</td>\n",
       "      <td>0.331334</td>\n",
       "      <td>0.473879</td>\n",
       "      <td>0.665364</td>\n",
       "      <td>0.335456</td>\n",
       "      <td>0.291462</td>\n",
       "      <td>0.499985</td>\n",
       "      <td>0.444750</td>\n",
       "      <td>0.394592</td>\n",
       "      <td>0.491143</td>\n",
       "      <td>0.671368</td>\n",
       "      <td>0.153667</td>\n",
       "      <td>0.167667</td>\n",
       "      <td>0.405</td>\n",
       "      <td>0.378154</td>\n",
       "      <td>0.718584</td>\n",
       "      <td>0.326011</td>\n",
       "      <td>3.863851</td>\n",
       "      <td>1.0</td>\n",
       "      <td>1.0</td>\n",
       "      <td>1.0</td>\n",
       "      <td>1.0</td>\n",
       "    </tr>\n",
       "    <tr>\n",
       "      <th>4723</th>\n",
       "      <td>0.0</td>\n",
       "      <td>0.0</td>\n",
       "      <td>0.360221</td>\n",
       "      <td>0.724006</td>\n",
       "      <td>0.450001</td>\n",
       "      <td>0.319569</td>\n",
       "      <td>0.227160</td>\n",
       "      <td>0.222552</td>\n",
       "      <td>0.331334</td>\n",
       "      <td>0.605013</td>\n",
       "      <td>0.617769</td>\n",
       "      <td>0.323525</td>\n",
       "      <td>0.283044</td>\n",
       "      <td>0.500020</td>\n",
       "      <td>0.430901</td>\n",
       "      <td>0.339002</td>\n",
       "      <td>0.446740</td>\n",
       "      <td>0.668510</td>\n",
       "      <td>0.155000</td>\n",
       "      <td>0.170333</td>\n",
       "      <td>0.415</td>\n",
       "      <td>0.371402</td>\n",
       "      <td>0.711251</td>\n",
       "      <td>0.323023</td>\n",
       "      <td>3.773584</td>\n",
       "      <td>1.0</td>\n",
       "      <td>1.0</td>\n",
       "      <td>1.0</td>\n",
       "      <td>1.0</td>\n",
       "    </tr>\n",
       "    <tr>\n",
       "      <th>4724</th>\n",
       "      <td>0.0</td>\n",
       "      <td>0.0</td>\n",
       "      <td>0.377004</td>\n",
       "      <td>0.735642</td>\n",
       "      <td>0.467945</td>\n",
       "      <td>0.297554</td>\n",
       "      <td>0.209170</td>\n",
       "      <td>0.229322</td>\n",
       "      <td>0.331334</td>\n",
       "      <td>0.185222</td>\n",
       "      <td>0.642799</td>\n",
       "      <td>0.333983</td>\n",
       "      <td>0.285449</td>\n",
       "      <td>0.500001</td>\n",
       "      <td>0.441520</td>\n",
       "      <td>0.355644</td>\n",
       "      <td>0.467498</td>\n",
       "      <td>0.658606</td>\n",
       "      <td>0.155333</td>\n",
       "      <td>0.169333</td>\n",
       "      <td>0.408</td>\n",
       "      <td>0.372487</td>\n",
       "      <td>0.735150</td>\n",
       "      <td>0.330498</td>\n",
       "      <td>3.912735</td>\n",
       "      <td>1.0</td>\n",
       "      <td>1.0</td>\n",
       "      <td>1.0</td>\n",
       "      <td>1.0</td>\n",
       "    </tr>\n",
       "    <tr>\n",
       "      <th>4725</th>\n",
       "      <td>0.0</td>\n",
       "      <td>0.0</td>\n",
       "      <td>0.393147</td>\n",
       "      <td>0.734227</td>\n",
       "      <td>0.482049</td>\n",
       "      <td>0.284042</td>\n",
       "      <td>0.200880</td>\n",
       "      <td>0.203630</td>\n",
       "      <td>0.331334</td>\n",
       "      <td>0.146878</td>\n",
       "      <td>0.659672</td>\n",
       "      <td>0.335176</td>\n",
       "      <td>0.285092</td>\n",
       "      <td>0.499984</td>\n",
       "      <td>0.444056</td>\n",
       "      <td>0.375633</td>\n",
       "      <td>0.483183</td>\n",
       "      <td>0.665567</td>\n",
       "      <td>0.152667</td>\n",
       "      <td>0.172333</td>\n",
       "      <td>0.401</td>\n",
       "      <td>0.376056</td>\n",
       "      <td>0.741464</td>\n",
       "      <td>0.331968</td>\n",
       "      <td>3.854632</td>\n",
       "      <td>1.0</td>\n",
       "      <td>1.0</td>\n",
       "      <td>1.0</td>\n",
       "      <td>1.0</td>\n",
       "    </tr>\n",
       "    <tr>\n",
       "      <th>4726</th>\n",
       "      <td>0.0</td>\n",
       "      <td>0.0</td>\n",
       "      <td>0.388258</td>\n",
       "      <td>0.725403</td>\n",
       "      <td>0.473146</td>\n",
       "      <td>0.275363</td>\n",
       "      <td>0.185112</td>\n",
       "      <td>0.214218</td>\n",
       "      <td>0.331334</td>\n",
       "      <td>0.132846</td>\n",
       "      <td>0.649275</td>\n",
       "      <td>0.327813</td>\n",
       "      <td>0.278799</td>\n",
       "      <td>0.499987</td>\n",
       "      <td>0.435539</td>\n",
       "      <td>0.372501</td>\n",
       "      <td>0.476150</td>\n",
       "      <td>0.655024</td>\n",
       "      <td>0.153000</td>\n",
       "      <td>0.174000</td>\n",
       "      <td>0.394</td>\n",
       "      <td>0.378681</td>\n",
       "      <td>0.737792</td>\n",
       "      <td>0.331197</td>\n",
       "      <td>3.780478</td>\n",
       "      <td>1.0</td>\n",
       "      <td>1.0</td>\n",
       "      <td>1.0</td>\n",
       "      <td>1.0</td>\n",
       "    </tr>\n",
       "  </tbody>\n",
       "</table>\n",
       "<p>4727 rows × 29 columns</p>\n",
       "</div>"
      ],
      "text/plain": [
       "      Depth  Rate      SABP      DABP      SCVP      DCVP      SPPG      DPPG  \\\n",
       "0       0.0   0.0  0.517805  0.431428  0.633759  0.213226  0.172589  0.178529   \n",
       "1       0.0   0.0  0.519309  0.428999  0.635732  0.213245  0.156359  0.211896   \n",
       "2       0.0   0.0  0.521883  0.430840  0.640206  0.214943  0.175741  0.214243   \n",
       "3       0.0   0.0  0.527984  0.430171  0.647397  0.214132  0.206375  0.191000   \n",
       "4       0.0   0.0  0.524711  0.448128  0.643306  0.250364  0.212921  0.172863   \n",
       "...     ...   ...       ...       ...       ...       ...       ...       ...   \n",
       "4722    0.0   0.0  0.405321  0.720855  0.493426  0.301291  0.237774  0.226020   \n",
       "4723    0.0   0.0  0.360221  0.724006  0.450001  0.319569  0.227160  0.222552   \n",
       "4724    0.0   0.0  0.377004  0.735642  0.467945  0.297554  0.209170  0.229322   \n",
       "4725    0.0   0.0  0.393147  0.734227  0.482049  0.284042  0.200880  0.203630   \n",
       "4726    0.0   0.0  0.388258  0.725403  0.473146  0.275363  0.185112  0.214218   \n",
       "\n",
       "       ETpeaks  ITPpeaks       MAP  ABP_Area  CVP_Area  PPG_Area  Mean ABP  \\\n",
       "0     0.315266  0.133802  0.623174  0.416229  0.454481  0.500085  0.537127   \n",
       "1     0.315266  0.128295  0.623434  0.419115  0.457754  0.500026  0.541387   \n",
       "2     0.315266  0.123927  0.627304  0.419194  0.458134  0.499955  0.541483   \n",
       "3     0.315266  0.220838  0.633604  0.421870  0.460139  0.499927  0.542731   \n",
       "4     0.305716  0.540942  0.640280  0.422324  0.460197  0.499977  0.544168   \n",
       "...        ...       ...       ...       ...       ...       ...       ...   \n",
       "4722  0.331334  0.473879  0.665364  0.335456  0.291462  0.499985  0.444750   \n",
       "4723  0.331334  0.605013  0.617769  0.323525  0.283044  0.500020  0.430901   \n",
       "4724  0.331334  0.185222  0.642799  0.333983  0.285449  0.500001  0.441520   \n",
       "4725  0.331334  0.146878  0.659672  0.335176  0.285092  0.499984  0.444056   \n",
       "4726  0.331334  0.132846  0.649275  0.327813  0.278799  0.499987  0.435539   \n",
       "\n",
       "      ABP Difference  CVP Difference  PPG Difference  ABP Time Difference  \\\n",
       "0           0.622155        0.639471        0.664291             0.163333   \n",
       "1           0.624743        0.641347        0.644452             0.163667   \n",
       "2           0.627277        0.645325        0.651266             0.164000   \n",
       "3           0.634873        0.652309        0.672817             0.164333   \n",
       "4           0.625241        0.642374        0.682690             0.164000   \n",
       "...              ...             ...             ...                  ...   \n",
       "4722        0.394592        0.491143        0.671368             0.153667   \n",
       "4723        0.339002        0.446740        0.668510             0.155000   \n",
       "4724        0.355644        0.467498        0.658606             0.155333   \n",
       "4725        0.375633        0.483183        0.665567             0.152667   \n",
       "4726        0.372501        0.476150        0.655024             0.153000   \n",
       "\n",
       "      CVP Time Difference  PPG Time Difference      CPP1      CPP2      CPP3  \\\n",
       "0                0.163667                0.378  0.369374  0.486158  0.242709   \n",
       "1                0.163333                0.361  0.369179  0.483775  0.242225   \n",
       "2                0.164667                0.197  0.367967  0.484605  0.241928   \n",
       "3                0.165000                0.362  0.367827  0.484415  0.242484   \n",
       "4                0.165333                0.384  0.368089  0.481311  0.242853   \n",
       "...                   ...                  ...       ...       ...       ...   \n",
       "4722             0.167667                0.405  0.378154  0.718584  0.326011   \n",
       "4723             0.170333                0.415  0.371402  0.711251  0.323023   \n",
       "4724             0.169333                0.408  0.372487  0.735150  0.330498   \n",
       "4725             0.172333                0.401  0.376056  0.741464  0.331968   \n",
       "4726             0.174000                0.394  0.378681  0.737792  0.331197   \n",
       "\n",
       "      Carotid Volume  0.62  0.68  0.89    1  \n",
       "0           4.607660   1.0   1.0   1.0  1.0  \n",
       "1           4.544113   1.0   1.0   1.0  1.0  \n",
       "2           4.525881   1.0   1.0   1.0  1.0  \n",
       "3           4.579202   1.0   1.0   1.0  1.0  \n",
       "4           4.615489   1.0   1.0   1.0  1.0  \n",
       "...              ...   ...   ...   ...  ...  \n",
       "4722        3.863851   1.0   1.0   1.0  1.0  \n",
       "4723        3.773584   1.0   1.0   1.0  1.0  \n",
       "4724        3.912735   1.0   1.0   1.0  1.0  \n",
       "4725        3.854632   1.0   1.0   1.0  1.0  \n",
       "4726        3.780478   1.0   1.0   1.0  1.0  \n",
       "\n",
       "[4727 rows x 29 columns]"
      ]
     },
     "execution_count": 73,
     "metadata": {},
     "output_type": "execute_result"
    }
   ],
   "source": [
    "Total_Input_signal"
   ]
  },
  {
   "cell_type": "code",
   "execution_count": 74,
   "id": "83684a51",
   "metadata": {},
   "outputs": [],
   "source": [
    "Total_Input_signal = Total_Input_signal.drop(['SCVP','DCVP','CVP_Area','CVP Difference','CVP Time Difference','CPP1','CPP2','CPP3'],axis=1) #- 모두"
   ]
  },
  {
   "cell_type": "code",
   "execution_count": 75,
   "id": "a43fd1c3",
   "metadata": {},
   "outputs": [
    {
     "data": {
      "text/html": [
       "<div>\n",
       "<style scoped>\n",
       "    .dataframe tbody tr th:only-of-type {\n",
       "        vertical-align: middle;\n",
       "    }\n",
       "\n",
       "    .dataframe tbody tr th {\n",
       "        vertical-align: top;\n",
       "    }\n",
       "\n",
       "    .dataframe thead th {\n",
       "        text-align: right;\n",
       "    }\n",
       "</style>\n",
       "<table border=\"1\" class=\"dataframe\">\n",
       "  <thead>\n",
       "    <tr style=\"text-align: right;\">\n",
       "      <th></th>\n",
       "      <th>Depth</th>\n",
       "      <th>Rate</th>\n",
       "      <th>SABP</th>\n",
       "      <th>DABP</th>\n",
       "      <th>SPPG</th>\n",
       "      <th>DPPG</th>\n",
       "      <th>ETpeaks</th>\n",
       "      <th>ITPpeaks</th>\n",
       "      <th>MAP</th>\n",
       "      <th>ABP_Area</th>\n",
       "      <th>PPG_Area</th>\n",
       "      <th>Mean ABP</th>\n",
       "      <th>ABP Difference</th>\n",
       "      <th>PPG Difference</th>\n",
       "      <th>ABP Time Difference</th>\n",
       "      <th>PPG Time Difference</th>\n",
       "      <th>Carotid Volume</th>\n",
       "      <th>0.62</th>\n",
       "      <th>0.68</th>\n",
       "      <th>0.89</th>\n",
       "      <th>1</th>\n",
       "    </tr>\n",
       "  </thead>\n",
       "  <tbody>\n",
       "    <tr>\n",
       "      <th>0</th>\n",
       "      <td>0.0</td>\n",
       "      <td>0.0</td>\n",
       "      <td>0.517805</td>\n",
       "      <td>0.431428</td>\n",
       "      <td>0.172589</td>\n",
       "      <td>0.178529</td>\n",
       "      <td>0.315266</td>\n",
       "      <td>0.133802</td>\n",
       "      <td>0.623174</td>\n",
       "      <td>0.416229</td>\n",
       "      <td>0.500085</td>\n",
       "      <td>0.537127</td>\n",
       "      <td>0.622155</td>\n",
       "      <td>0.664291</td>\n",
       "      <td>0.163333</td>\n",
       "      <td>0.378</td>\n",
       "      <td>4.607660</td>\n",
       "      <td>1.0</td>\n",
       "      <td>1.0</td>\n",
       "      <td>1.0</td>\n",
       "      <td>1.0</td>\n",
       "    </tr>\n",
       "    <tr>\n",
       "      <th>1</th>\n",
       "      <td>0.0</td>\n",
       "      <td>0.0</td>\n",
       "      <td>0.519309</td>\n",
       "      <td>0.428999</td>\n",
       "      <td>0.156359</td>\n",
       "      <td>0.211896</td>\n",
       "      <td>0.315266</td>\n",
       "      <td>0.128295</td>\n",
       "      <td>0.623434</td>\n",
       "      <td>0.419115</td>\n",
       "      <td>0.500026</td>\n",
       "      <td>0.541387</td>\n",
       "      <td>0.624743</td>\n",
       "      <td>0.644452</td>\n",
       "      <td>0.163667</td>\n",
       "      <td>0.361</td>\n",
       "      <td>4.544113</td>\n",
       "      <td>1.0</td>\n",
       "      <td>1.0</td>\n",
       "      <td>1.0</td>\n",
       "      <td>1.0</td>\n",
       "    </tr>\n",
       "    <tr>\n",
       "      <th>2</th>\n",
       "      <td>0.0</td>\n",
       "      <td>0.0</td>\n",
       "      <td>0.521883</td>\n",
       "      <td>0.430840</td>\n",
       "      <td>0.175741</td>\n",
       "      <td>0.214243</td>\n",
       "      <td>0.315266</td>\n",
       "      <td>0.123927</td>\n",
       "      <td>0.627304</td>\n",
       "      <td>0.419194</td>\n",
       "      <td>0.499955</td>\n",
       "      <td>0.541483</td>\n",
       "      <td>0.627277</td>\n",
       "      <td>0.651266</td>\n",
       "      <td>0.164000</td>\n",
       "      <td>0.197</td>\n",
       "      <td>4.525881</td>\n",
       "      <td>1.0</td>\n",
       "      <td>1.0</td>\n",
       "      <td>1.0</td>\n",
       "      <td>1.0</td>\n",
       "    </tr>\n",
       "    <tr>\n",
       "      <th>3</th>\n",
       "      <td>0.0</td>\n",
       "      <td>0.0</td>\n",
       "      <td>0.527984</td>\n",
       "      <td>0.430171</td>\n",
       "      <td>0.206375</td>\n",
       "      <td>0.191000</td>\n",
       "      <td>0.315266</td>\n",
       "      <td>0.220838</td>\n",
       "      <td>0.633604</td>\n",
       "      <td>0.421870</td>\n",
       "      <td>0.499927</td>\n",
       "      <td>0.542731</td>\n",
       "      <td>0.634873</td>\n",
       "      <td>0.672817</td>\n",
       "      <td>0.164333</td>\n",
       "      <td>0.362</td>\n",
       "      <td>4.579202</td>\n",
       "      <td>1.0</td>\n",
       "      <td>1.0</td>\n",
       "      <td>1.0</td>\n",
       "      <td>1.0</td>\n",
       "    </tr>\n",
       "    <tr>\n",
       "      <th>4</th>\n",
       "      <td>0.0</td>\n",
       "      <td>0.0</td>\n",
       "      <td>0.524711</td>\n",
       "      <td>0.448128</td>\n",
       "      <td>0.212921</td>\n",
       "      <td>0.172863</td>\n",
       "      <td>0.305716</td>\n",
       "      <td>0.540942</td>\n",
       "      <td>0.640280</td>\n",
       "      <td>0.422324</td>\n",
       "      <td>0.499977</td>\n",
       "      <td>0.544168</td>\n",
       "      <td>0.625241</td>\n",
       "      <td>0.682690</td>\n",
       "      <td>0.164000</td>\n",
       "      <td>0.384</td>\n",
       "      <td>4.615489</td>\n",
       "      <td>1.0</td>\n",
       "      <td>1.0</td>\n",
       "      <td>1.0</td>\n",
       "      <td>1.0</td>\n",
       "    </tr>\n",
       "    <tr>\n",
       "      <th>...</th>\n",
       "      <td>...</td>\n",
       "      <td>...</td>\n",
       "      <td>...</td>\n",
       "      <td>...</td>\n",
       "      <td>...</td>\n",
       "      <td>...</td>\n",
       "      <td>...</td>\n",
       "      <td>...</td>\n",
       "      <td>...</td>\n",
       "      <td>...</td>\n",
       "      <td>...</td>\n",
       "      <td>...</td>\n",
       "      <td>...</td>\n",
       "      <td>...</td>\n",
       "      <td>...</td>\n",
       "      <td>...</td>\n",
       "      <td>...</td>\n",
       "      <td>...</td>\n",
       "      <td>...</td>\n",
       "      <td>...</td>\n",
       "      <td>...</td>\n",
       "    </tr>\n",
       "    <tr>\n",
       "      <th>4722</th>\n",
       "      <td>0.0</td>\n",
       "      <td>0.0</td>\n",
       "      <td>0.405321</td>\n",
       "      <td>0.720855</td>\n",
       "      <td>0.237774</td>\n",
       "      <td>0.226020</td>\n",
       "      <td>0.331334</td>\n",
       "      <td>0.473879</td>\n",
       "      <td>0.665364</td>\n",
       "      <td>0.335456</td>\n",
       "      <td>0.499985</td>\n",
       "      <td>0.444750</td>\n",
       "      <td>0.394592</td>\n",
       "      <td>0.671368</td>\n",
       "      <td>0.153667</td>\n",
       "      <td>0.405</td>\n",
       "      <td>3.863851</td>\n",
       "      <td>1.0</td>\n",
       "      <td>1.0</td>\n",
       "      <td>1.0</td>\n",
       "      <td>1.0</td>\n",
       "    </tr>\n",
       "    <tr>\n",
       "      <th>4723</th>\n",
       "      <td>0.0</td>\n",
       "      <td>0.0</td>\n",
       "      <td>0.360221</td>\n",
       "      <td>0.724006</td>\n",
       "      <td>0.227160</td>\n",
       "      <td>0.222552</td>\n",
       "      <td>0.331334</td>\n",
       "      <td>0.605013</td>\n",
       "      <td>0.617769</td>\n",
       "      <td>0.323525</td>\n",
       "      <td>0.500020</td>\n",
       "      <td>0.430901</td>\n",
       "      <td>0.339002</td>\n",
       "      <td>0.668510</td>\n",
       "      <td>0.155000</td>\n",
       "      <td>0.415</td>\n",
       "      <td>3.773584</td>\n",
       "      <td>1.0</td>\n",
       "      <td>1.0</td>\n",
       "      <td>1.0</td>\n",
       "      <td>1.0</td>\n",
       "    </tr>\n",
       "    <tr>\n",
       "      <th>4724</th>\n",
       "      <td>0.0</td>\n",
       "      <td>0.0</td>\n",
       "      <td>0.377004</td>\n",
       "      <td>0.735642</td>\n",
       "      <td>0.209170</td>\n",
       "      <td>0.229322</td>\n",
       "      <td>0.331334</td>\n",
       "      <td>0.185222</td>\n",
       "      <td>0.642799</td>\n",
       "      <td>0.333983</td>\n",
       "      <td>0.500001</td>\n",
       "      <td>0.441520</td>\n",
       "      <td>0.355644</td>\n",
       "      <td>0.658606</td>\n",
       "      <td>0.155333</td>\n",
       "      <td>0.408</td>\n",
       "      <td>3.912735</td>\n",
       "      <td>1.0</td>\n",
       "      <td>1.0</td>\n",
       "      <td>1.0</td>\n",
       "      <td>1.0</td>\n",
       "    </tr>\n",
       "    <tr>\n",
       "      <th>4725</th>\n",
       "      <td>0.0</td>\n",
       "      <td>0.0</td>\n",
       "      <td>0.393147</td>\n",
       "      <td>0.734227</td>\n",
       "      <td>0.200880</td>\n",
       "      <td>0.203630</td>\n",
       "      <td>0.331334</td>\n",
       "      <td>0.146878</td>\n",
       "      <td>0.659672</td>\n",
       "      <td>0.335176</td>\n",
       "      <td>0.499984</td>\n",
       "      <td>0.444056</td>\n",
       "      <td>0.375633</td>\n",
       "      <td>0.665567</td>\n",
       "      <td>0.152667</td>\n",
       "      <td>0.401</td>\n",
       "      <td>3.854632</td>\n",
       "      <td>1.0</td>\n",
       "      <td>1.0</td>\n",
       "      <td>1.0</td>\n",
       "      <td>1.0</td>\n",
       "    </tr>\n",
       "    <tr>\n",
       "      <th>4726</th>\n",
       "      <td>0.0</td>\n",
       "      <td>0.0</td>\n",
       "      <td>0.388258</td>\n",
       "      <td>0.725403</td>\n",
       "      <td>0.185112</td>\n",
       "      <td>0.214218</td>\n",
       "      <td>0.331334</td>\n",
       "      <td>0.132846</td>\n",
       "      <td>0.649275</td>\n",
       "      <td>0.327813</td>\n",
       "      <td>0.499987</td>\n",
       "      <td>0.435539</td>\n",
       "      <td>0.372501</td>\n",
       "      <td>0.655024</td>\n",
       "      <td>0.153000</td>\n",
       "      <td>0.394</td>\n",
       "      <td>3.780478</td>\n",
       "      <td>1.0</td>\n",
       "      <td>1.0</td>\n",
       "      <td>1.0</td>\n",
       "      <td>1.0</td>\n",
       "    </tr>\n",
       "  </tbody>\n",
       "</table>\n",
       "<p>4727 rows × 21 columns</p>\n",
       "</div>"
      ],
      "text/plain": [
       "      Depth  Rate      SABP      DABP      SPPG      DPPG   ETpeaks  ITPpeaks  \\\n",
       "0       0.0   0.0  0.517805  0.431428  0.172589  0.178529  0.315266  0.133802   \n",
       "1       0.0   0.0  0.519309  0.428999  0.156359  0.211896  0.315266  0.128295   \n",
       "2       0.0   0.0  0.521883  0.430840  0.175741  0.214243  0.315266  0.123927   \n",
       "3       0.0   0.0  0.527984  0.430171  0.206375  0.191000  0.315266  0.220838   \n",
       "4       0.0   0.0  0.524711  0.448128  0.212921  0.172863  0.305716  0.540942   \n",
       "...     ...   ...       ...       ...       ...       ...       ...       ...   \n",
       "4722    0.0   0.0  0.405321  0.720855  0.237774  0.226020  0.331334  0.473879   \n",
       "4723    0.0   0.0  0.360221  0.724006  0.227160  0.222552  0.331334  0.605013   \n",
       "4724    0.0   0.0  0.377004  0.735642  0.209170  0.229322  0.331334  0.185222   \n",
       "4725    0.0   0.0  0.393147  0.734227  0.200880  0.203630  0.331334  0.146878   \n",
       "4726    0.0   0.0  0.388258  0.725403  0.185112  0.214218  0.331334  0.132846   \n",
       "\n",
       "           MAP  ABP_Area  PPG_Area  Mean ABP  ABP Difference  PPG Difference  \\\n",
       "0     0.623174  0.416229  0.500085  0.537127        0.622155        0.664291   \n",
       "1     0.623434  0.419115  0.500026  0.541387        0.624743        0.644452   \n",
       "2     0.627304  0.419194  0.499955  0.541483        0.627277        0.651266   \n",
       "3     0.633604  0.421870  0.499927  0.542731        0.634873        0.672817   \n",
       "4     0.640280  0.422324  0.499977  0.544168        0.625241        0.682690   \n",
       "...        ...       ...       ...       ...             ...             ...   \n",
       "4722  0.665364  0.335456  0.499985  0.444750        0.394592        0.671368   \n",
       "4723  0.617769  0.323525  0.500020  0.430901        0.339002        0.668510   \n",
       "4724  0.642799  0.333983  0.500001  0.441520        0.355644        0.658606   \n",
       "4725  0.659672  0.335176  0.499984  0.444056        0.375633        0.665567   \n",
       "4726  0.649275  0.327813  0.499987  0.435539        0.372501        0.655024   \n",
       "\n",
       "      ABP Time Difference  PPG Time Difference  Carotid Volume  0.62  0.68  \\\n",
       "0                0.163333                0.378        4.607660   1.0   1.0   \n",
       "1                0.163667                0.361        4.544113   1.0   1.0   \n",
       "2                0.164000                0.197        4.525881   1.0   1.0   \n",
       "3                0.164333                0.362        4.579202   1.0   1.0   \n",
       "4                0.164000                0.384        4.615489   1.0   1.0   \n",
       "...                   ...                  ...             ...   ...   ...   \n",
       "4722             0.153667                0.405        3.863851   1.0   1.0   \n",
       "4723             0.155000                0.415        3.773584   1.0   1.0   \n",
       "4724             0.155333                0.408        3.912735   1.0   1.0   \n",
       "4725             0.152667                0.401        3.854632   1.0   1.0   \n",
       "4726             0.153000                0.394        3.780478   1.0   1.0   \n",
       "\n",
       "      0.89    1  \n",
       "0      1.0  1.0  \n",
       "1      1.0  1.0  \n",
       "2      1.0  1.0  \n",
       "3      1.0  1.0  \n",
       "4      1.0  1.0  \n",
       "...    ...  ...  \n",
       "4722   1.0  1.0  \n",
       "4723   1.0  1.0  \n",
       "4724   1.0  1.0  \n",
       "4725   1.0  1.0  \n",
       "4726   1.0  1.0  \n",
       "\n",
       "[4727 rows x 21 columns]"
      ]
     },
     "execution_count": 75,
     "metadata": {},
     "output_type": "execute_result"
    }
   ],
   "source": [
    "pd.set_option('display.max_columns',None)\n",
    "Total_Input_signal"
   ]
  },
  {
   "cell_type": "code",
   "execution_count": 76,
   "id": "c693f44f",
   "metadata": {
    "scrolled": true
   },
   "outputs": [],
   "source": [
    "Pig1 = Total_Input_signal.iloc[:,18]"
   ]
  },
  {
   "cell_type": "code",
   "execution_count": 77,
   "id": "1f9504c5",
   "metadata": {},
   "outputs": [
    {
     "data": {
      "text/plain": [
       "0       1.0\n",
       "1       1.0\n",
       "2       1.0\n",
       "3       1.0\n",
       "4       1.0\n",
       "       ... \n",
       "4722    1.0\n",
       "4723    1.0\n",
       "4724    1.0\n",
       "4725    1.0\n",
       "4726    1.0\n",
       "Name: 0.68, Length: 4727, dtype: float64"
      ]
     },
     "execution_count": 77,
     "metadata": {},
     "output_type": "execute_result"
    }
   ],
   "source": [
    "Pig1"
   ]
  },
  {
   "cell_type": "code",
   "execution_count": 78,
   "id": "070d809c",
   "metadata": {},
   "outputs": [],
   "source": [
    "Pig1 = pd.DataFrame(Pig1)"
   ]
  },
  {
   "cell_type": "code",
   "execution_count": 79,
   "id": "6ef7a2c7",
   "metadata": {},
   "outputs": [
    {
     "name": "stdout",
     "output_type": "stream",
     "text": [
      "Test set(P1):  (array([0., 1.]), array([ 300, 4427], dtype=int64))\n"
     ]
    }
   ],
   "source": [
    "print('Test set(P1): ',np.unique(Pig1,return_counts=True))       # Data 구성 확인 "
   ]
  },
  {
   "cell_type": "code",
   "execution_count": 80,
   "id": "2052b822",
   "metadata": {},
   "outputs": [],
   "source": [
    "External_Test_X = Total_Input_signal.iloc[:,0:16]\n",
    "External_Test_Y = Pig1\n",
    "Answer_0907 = np.array(Pig1)"
   ]
  },
  {
   "cell_type": "code",
   "execution_count": 81,
   "id": "7e000279",
   "metadata": {},
   "outputs": [
    {
     "data": {
      "text/html": [
       "<div>\n",
       "<style scoped>\n",
       "    .dataframe tbody tr th:only-of-type {\n",
       "        vertical-align: middle;\n",
       "    }\n",
       "\n",
       "    .dataframe tbody tr th {\n",
       "        vertical-align: top;\n",
       "    }\n",
       "\n",
       "    .dataframe thead th {\n",
       "        text-align: right;\n",
       "    }\n",
       "</style>\n",
       "<table border=\"1\" class=\"dataframe\">\n",
       "  <thead>\n",
       "    <tr style=\"text-align: right;\">\n",
       "      <th></th>\n",
       "      <th>Depth</th>\n",
       "      <th>Rate</th>\n",
       "      <th>SABP</th>\n",
       "      <th>DABP</th>\n",
       "      <th>SPPG</th>\n",
       "      <th>DPPG</th>\n",
       "      <th>ETpeaks</th>\n",
       "      <th>ITPpeaks</th>\n",
       "      <th>MAP</th>\n",
       "      <th>ABP_Area</th>\n",
       "      <th>PPG_Area</th>\n",
       "      <th>Mean ABP</th>\n",
       "      <th>ABP Difference</th>\n",
       "      <th>PPG Difference</th>\n",
       "      <th>ABP Time Difference</th>\n",
       "      <th>PPG Time Difference</th>\n",
       "    </tr>\n",
       "  </thead>\n",
       "  <tbody>\n",
       "    <tr>\n",
       "      <th>0</th>\n",
       "      <td>0.0</td>\n",
       "      <td>0.0</td>\n",
       "      <td>0.517805</td>\n",
       "      <td>0.431428</td>\n",
       "      <td>0.172589</td>\n",
       "      <td>0.178529</td>\n",
       "      <td>0.315266</td>\n",
       "      <td>0.133802</td>\n",
       "      <td>0.623174</td>\n",
       "      <td>0.416229</td>\n",
       "      <td>0.500085</td>\n",
       "      <td>0.537127</td>\n",
       "      <td>0.622155</td>\n",
       "      <td>0.664291</td>\n",
       "      <td>0.163333</td>\n",
       "      <td>0.378</td>\n",
       "    </tr>\n",
       "    <tr>\n",
       "      <th>1</th>\n",
       "      <td>0.0</td>\n",
       "      <td>0.0</td>\n",
       "      <td>0.519309</td>\n",
       "      <td>0.428999</td>\n",
       "      <td>0.156359</td>\n",
       "      <td>0.211896</td>\n",
       "      <td>0.315266</td>\n",
       "      <td>0.128295</td>\n",
       "      <td>0.623434</td>\n",
       "      <td>0.419115</td>\n",
       "      <td>0.500026</td>\n",
       "      <td>0.541387</td>\n",
       "      <td>0.624743</td>\n",
       "      <td>0.644452</td>\n",
       "      <td>0.163667</td>\n",
       "      <td>0.361</td>\n",
       "    </tr>\n",
       "    <tr>\n",
       "      <th>2</th>\n",
       "      <td>0.0</td>\n",
       "      <td>0.0</td>\n",
       "      <td>0.521883</td>\n",
       "      <td>0.430840</td>\n",
       "      <td>0.175741</td>\n",
       "      <td>0.214243</td>\n",
       "      <td>0.315266</td>\n",
       "      <td>0.123927</td>\n",
       "      <td>0.627304</td>\n",
       "      <td>0.419194</td>\n",
       "      <td>0.499955</td>\n",
       "      <td>0.541483</td>\n",
       "      <td>0.627277</td>\n",
       "      <td>0.651266</td>\n",
       "      <td>0.164000</td>\n",
       "      <td>0.197</td>\n",
       "    </tr>\n",
       "    <tr>\n",
       "      <th>3</th>\n",
       "      <td>0.0</td>\n",
       "      <td>0.0</td>\n",
       "      <td>0.527984</td>\n",
       "      <td>0.430171</td>\n",
       "      <td>0.206375</td>\n",
       "      <td>0.191000</td>\n",
       "      <td>0.315266</td>\n",
       "      <td>0.220838</td>\n",
       "      <td>0.633604</td>\n",
       "      <td>0.421870</td>\n",
       "      <td>0.499927</td>\n",
       "      <td>0.542731</td>\n",
       "      <td>0.634873</td>\n",
       "      <td>0.672817</td>\n",
       "      <td>0.164333</td>\n",
       "      <td>0.362</td>\n",
       "    </tr>\n",
       "    <tr>\n",
       "      <th>4</th>\n",
       "      <td>0.0</td>\n",
       "      <td>0.0</td>\n",
       "      <td>0.524711</td>\n",
       "      <td>0.448128</td>\n",
       "      <td>0.212921</td>\n",
       "      <td>0.172863</td>\n",
       "      <td>0.305716</td>\n",
       "      <td>0.540942</td>\n",
       "      <td>0.640280</td>\n",
       "      <td>0.422324</td>\n",
       "      <td>0.499977</td>\n",
       "      <td>0.544168</td>\n",
       "      <td>0.625241</td>\n",
       "      <td>0.682690</td>\n",
       "      <td>0.164000</td>\n",
       "      <td>0.384</td>\n",
       "    </tr>\n",
       "    <tr>\n",
       "      <th>...</th>\n",
       "      <td>...</td>\n",
       "      <td>...</td>\n",
       "      <td>...</td>\n",
       "      <td>...</td>\n",
       "      <td>...</td>\n",
       "      <td>...</td>\n",
       "      <td>...</td>\n",
       "      <td>...</td>\n",
       "      <td>...</td>\n",
       "      <td>...</td>\n",
       "      <td>...</td>\n",
       "      <td>...</td>\n",
       "      <td>...</td>\n",
       "      <td>...</td>\n",
       "      <td>...</td>\n",
       "      <td>...</td>\n",
       "    </tr>\n",
       "    <tr>\n",
       "      <th>4722</th>\n",
       "      <td>0.0</td>\n",
       "      <td>0.0</td>\n",
       "      <td>0.405321</td>\n",
       "      <td>0.720855</td>\n",
       "      <td>0.237774</td>\n",
       "      <td>0.226020</td>\n",
       "      <td>0.331334</td>\n",
       "      <td>0.473879</td>\n",
       "      <td>0.665364</td>\n",
       "      <td>0.335456</td>\n",
       "      <td>0.499985</td>\n",
       "      <td>0.444750</td>\n",
       "      <td>0.394592</td>\n",
       "      <td>0.671368</td>\n",
       "      <td>0.153667</td>\n",
       "      <td>0.405</td>\n",
       "    </tr>\n",
       "    <tr>\n",
       "      <th>4723</th>\n",
       "      <td>0.0</td>\n",
       "      <td>0.0</td>\n",
       "      <td>0.360221</td>\n",
       "      <td>0.724006</td>\n",
       "      <td>0.227160</td>\n",
       "      <td>0.222552</td>\n",
       "      <td>0.331334</td>\n",
       "      <td>0.605013</td>\n",
       "      <td>0.617769</td>\n",
       "      <td>0.323525</td>\n",
       "      <td>0.500020</td>\n",
       "      <td>0.430901</td>\n",
       "      <td>0.339002</td>\n",
       "      <td>0.668510</td>\n",
       "      <td>0.155000</td>\n",
       "      <td>0.415</td>\n",
       "    </tr>\n",
       "    <tr>\n",
       "      <th>4724</th>\n",
       "      <td>0.0</td>\n",
       "      <td>0.0</td>\n",
       "      <td>0.377004</td>\n",
       "      <td>0.735642</td>\n",
       "      <td>0.209170</td>\n",
       "      <td>0.229322</td>\n",
       "      <td>0.331334</td>\n",
       "      <td>0.185222</td>\n",
       "      <td>0.642799</td>\n",
       "      <td>0.333983</td>\n",
       "      <td>0.500001</td>\n",
       "      <td>0.441520</td>\n",
       "      <td>0.355644</td>\n",
       "      <td>0.658606</td>\n",
       "      <td>0.155333</td>\n",
       "      <td>0.408</td>\n",
       "    </tr>\n",
       "    <tr>\n",
       "      <th>4725</th>\n",
       "      <td>0.0</td>\n",
       "      <td>0.0</td>\n",
       "      <td>0.393147</td>\n",
       "      <td>0.734227</td>\n",
       "      <td>0.200880</td>\n",
       "      <td>0.203630</td>\n",
       "      <td>0.331334</td>\n",
       "      <td>0.146878</td>\n",
       "      <td>0.659672</td>\n",
       "      <td>0.335176</td>\n",
       "      <td>0.499984</td>\n",
       "      <td>0.444056</td>\n",
       "      <td>0.375633</td>\n",
       "      <td>0.665567</td>\n",
       "      <td>0.152667</td>\n",
       "      <td>0.401</td>\n",
       "    </tr>\n",
       "    <tr>\n",
       "      <th>4726</th>\n",
       "      <td>0.0</td>\n",
       "      <td>0.0</td>\n",
       "      <td>0.388258</td>\n",
       "      <td>0.725403</td>\n",
       "      <td>0.185112</td>\n",
       "      <td>0.214218</td>\n",
       "      <td>0.331334</td>\n",
       "      <td>0.132846</td>\n",
       "      <td>0.649275</td>\n",
       "      <td>0.327813</td>\n",
       "      <td>0.499987</td>\n",
       "      <td>0.435539</td>\n",
       "      <td>0.372501</td>\n",
       "      <td>0.655024</td>\n",
       "      <td>0.153000</td>\n",
       "      <td>0.394</td>\n",
       "    </tr>\n",
       "  </tbody>\n",
       "</table>\n",
       "<p>4727 rows × 16 columns</p>\n",
       "</div>"
      ],
      "text/plain": [
       "      Depth  Rate      SABP      DABP      SPPG      DPPG   ETpeaks  ITPpeaks  \\\n",
       "0       0.0   0.0  0.517805  0.431428  0.172589  0.178529  0.315266  0.133802   \n",
       "1       0.0   0.0  0.519309  0.428999  0.156359  0.211896  0.315266  0.128295   \n",
       "2       0.0   0.0  0.521883  0.430840  0.175741  0.214243  0.315266  0.123927   \n",
       "3       0.0   0.0  0.527984  0.430171  0.206375  0.191000  0.315266  0.220838   \n",
       "4       0.0   0.0  0.524711  0.448128  0.212921  0.172863  0.305716  0.540942   \n",
       "...     ...   ...       ...       ...       ...       ...       ...       ...   \n",
       "4722    0.0   0.0  0.405321  0.720855  0.237774  0.226020  0.331334  0.473879   \n",
       "4723    0.0   0.0  0.360221  0.724006  0.227160  0.222552  0.331334  0.605013   \n",
       "4724    0.0   0.0  0.377004  0.735642  0.209170  0.229322  0.331334  0.185222   \n",
       "4725    0.0   0.0  0.393147  0.734227  0.200880  0.203630  0.331334  0.146878   \n",
       "4726    0.0   0.0  0.388258  0.725403  0.185112  0.214218  0.331334  0.132846   \n",
       "\n",
       "           MAP  ABP_Area  PPG_Area  Mean ABP  ABP Difference  PPG Difference  \\\n",
       "0     0.623174  0.416229  0.500085  0.537127        0.622155        0.664291   \n",
       "1     0.623434  0.419115  0.500026  0.541387        0.624743        0.644452   \n",
       "2     0.627304  0.419194  0.499955  0.541483        0.627277        0.651266   \n",
       "3     0.633604  0.421870  0.499927  0.542731        0.634873        0.672817   \n",
       "4     0.640280  0.422324  0.499977  0.544168        0.625241        0.682690   \n",
       "...        ...       ...       ...       ...             ...             ...   \n",
       "4722  0.665364  0.335456  0.499985  0.444750        0.394592        0.671368   \n",
       "4723  0.617769  0.323525  0.500020  0.430901        0.339002        0.668510   \n",
       "4724  0.642799  0.333983  0.500001  0.441520        0.355644        0.658606   \n",
       "4725  0.659672  0.335176  0.499984  0.444056        0.375633        0.665567   \n",
       "4726  0.649275  0.327813  0.499987  0.435539        0.372501        0.655024   \n",
       "\n",
       "      ABP Time Difference  PPG Time Difference  \n",
       "0                0.163333                0.378  \n",
       "1                0.163667                0.361  \n",
       "2                0.164000                0.197  \n",
       "3                0.164333                0.362  \n",
       "4                0.164000                0.384  \n",
       "...                   ...                  ...  \n",
       "4722             0.153667                0.405  \n",
       "4723             0.155000                0.415  \n",
       "4724             0.155333                0.408  \n",
       "4725             0.152667                0.401  \n",
       "4726             0.153000                0.394  \n",
       "\n",
       "[4727 rows x 16 columns]"
      ]
     },
     "execution_count": 81,
     "metadata": {},
     "output_type": "execute_result"
    }
   ],
   "source": [
    "External_Test_X"
   ]
  },
  {
   "cell_type": "code",
   "execution_count": 82,
   "id": "178947c2",
   "metadata": {},
   "outputs": [
    {
     "name": "stdout",
     "output_type": "stream",
     "text": [
      "(4727, 16)\n",
      "(4727, 1)\n"
     ]
    }
   ],
   "source": [
    "print(External_Test_X.shape)\n",
    "print(External_Test_Y.shape)"
   ]
  },
  {
   "cell_type": "code",
   "execution_count": 83,
   "id": "e9530b89",
   "metadata": {},
   "outputs": [
    {
     "name": "stdout",
     "output_type": "stream",
     "text": [
      "####### Data  #######\n",
      "External Test set:  (array([0., 1.]), array([ 300, 4427], dtype=int64))\n"
     ]
    }
   ],
   "source": [
    "print('####### Data  #######')\n",
    "print('External Test set: ',np.unique(External_Test_Y,return_counts=True))       # Data 구성 확인 "
   ]
  },
  {
   "cell_type": "code",
   "execution_count": 84,
   "id": "e788561d",
   "metadata": {},
   "outputs": [],
   "source": [
    "# Model 읽기\n",
    "import sklearn.externals\n",
    "import joblib\n",
    "model = joblib.load('CarotidVolume_Classification_SVM_Binary_AddRobot_Range_real_0.68.pkl')"
   ]
  },
  {
   "cell_type": "code",
   "execution_count": 85,
   "id": "b157c78f",
   "metadata": {},
   "outputs": [
    {
     "data": {
      "text/plain": [
       "SVC(C=1000, gamma=1, probability=True, random_state=156)"
      ]
     },
     "execution_count": 85,
     "metadata": {},
     "output_type": "execute_result"
    }
   ],
   "source": [
    "model"
   ]
  },
  {
   "cell_type": "code",
   "execution_count": 86,
   "id": "1c544d0e",
   "metadata": {},
   "outputs": [
    {
     "name": "stderr",
     "output_type": "stream",
     "text": [
      "C:\\Users\\user\\anaconda3\\envs\\jun\\lib\\site-packages\\sklearn\\base.py:444: UserWarning: X has feature names, but SVC was fitted without feature names\n",
      "  f\"X has feature names, but {self.__class__.__name__} was fitted without\"\n"
     ]
    }
   ],
   "source": [
    "# Model 불러오기\n",
    "prediction = model.predict_proba(External_Test_X)"
   ]
  },
  {
   "cell_type": "code",
   "execution_count": 87,
   "id": "301e153d",
   "metadata": {},
   "outputs": [
    {
     "data": {
      "text/plain": [
       "array([0.99999987, 1.        , 1.        , ..., 1.        , 1.        ,\n",
       "       1.        ])"
      ]
     },
     "execution_count": 87,
     "metadata": {},
     "output_type": "execute_result"
    }
   ],
   "source": [
    "prediction[:,1]"
   ]
  },
  {
   "cell_type": "code",
   "execution_count": 88,
   "id": "7e7b4f59",
   "metadata": {},
   "outputs": [
    {
     "name": "stdout",
     "output_type": "stream",
     "text": [
      "[1, 1, 1, 1, 1, 1, 1, 1, 1, 1]\n"
     ]
    }
   ],
   "source": [
    "# Best Threshold\n",
    "\n",
    "# 0.5629872719107023    - 0.68\n",
    "\n",
    "y_preds = [1 if x>0.5629872719107023 else 0 for x in prediction[:,1]]\n",
    "print(y_preds[:10])"
   ]
  },
  {
   "cell_type": "code",
   "execution_count": 89,
   "id": "95ea8463",
   "metadata": {
    "scrolled": true
   },
   "outputs": [
    {
     "data": {
      "text/plain": [
       "array([[1.],\n",
       "       [1.],\n",
       "       [1.],\n",
       "       ...,\n",
       "       [1.],\n",
       "       [1.],\n",
       "       [1.]])"
      ]
     },
     "execution_count": 89,
     "metadata": {},
     "output_type": "execute_result"
    }
   ],
   "source": [
    "Answer_0907"
   ]
  },
  {
   "cell_type": "code",
   "execution_count": 90,
   "id": "738cf051",
   "metadata": {},
   "outputs": [
    {
     "data": {
      "text/plain": [
       "array([[1., 1., 1., ..., 1., 1., 1.]])"
      ]
     },
     "execution_count": 90,
     "metadata": {},
     "output_type": "execute_result"
    }
   ],
   "source": [
    "np.transpose(np.array(Answer_0907))"
   ]
  },
  {
   "cell_type": "code",
   "execution_count": 91,
   "id": "2492261b",
   "metadata": {},
   "outputs": [],
   "source": [
    "prediction  = y_preds"
   ]
  },
  {
   "cell_type": "code",
   "execution_count": 92,
   "id": "4ddca675",
   "metadata": {},
   "outputs": [],
   "source": [
    "Answer_Data_0907_phase2_real = Answer_0907\n",
    "prediction_real = prediction"
   ]
  },
  {
   "cell_type": "code",
   "execution_count": 93,
   "id": "cf93b978",
   "metadata": {},
   "outputs": [
    {
     "name": "stdout",
     "output_type": "stream",
     "text": [
      "####### Data  #######\n",
      "External Test set:  (array([0., 1.]), array([ 300, 4427], dtype=int64))\n"
     ]
    }
   ],
   "source": [
    "print('####### Data  #######')\n",
    "print('External Test set: ',np.unique(Answer_Data_0907_phase2_real,return_counts=True))       # Data 구성 확인 "
   ]
  },
  {
   "cell_type": "code",
   "execution_count": 94,
   "id": "e52e286d",
   "metadata": {},
   "outputs": [
    {
     "data": {
      "text/plain": [
       "array([[1.],\n",
       "       [1.],\n",
       "       [1.],\n",
       "       ...,\n",
       "       [1.],\n",
       "       [1.],\n",
       "       [1.]])"
      ]
     },
     "execution_count": 94,
     "metadata": {},
     "output_type": "execute_result"
    }
   ],
   "source": [
    "Answer_Data_0907_phase2_real"
   ]
  },
  {
   "cell_type": "code",
   "execution_count": 95,
   "id": "5fd0dc38",
   "metadata": {},
   "outputs": [],
   "source": [
    "from sklearn.metrics import accuracy_score, precision_score, recall_score, confusion_matrix, f1_score, roc_curve, roc_auc_score\n",
    "from sklearn.metrics import classification_report\n",
    "from sklearn.metrics import ConfusionMatrixDisplay\n",
    "\n",
    "def get_CarotidModel_eval(y_real, prediction):\n",
    "    confusion = confusion_matrix(y_real,prediction)\n",
    "    accuracy = accuracy_score(y_real,prediction)\n",
    "    precision = precision_score(y_real,prediction,average='weighted')\n",
    "    recall = recall_score(y_real,prediction,average='weighted')\n",
    "    print(classification_report(y_real, prediction))\n",
    "    print('Confusion Matrix')\n",
    "    print(confusion)\n",
    "    print('정확도:{}, 정밀도:{}, 재현율:{}'.format(accuracy, precision, recall))\n",
    "    print('F1_Score: ', 2*(precision*recall)/(precision+recall))"
   ]
  },
  {
   "cell_type": "code",
   "execution_count": 96,
   "id": "8f618798",
   "metadata": {},
   "outputs": [
    {
     "name": "stdout",
     "output_type": "stream",
     "text": [
      "              precision    recall  f1-score   support\n",
      "\n",
      "         0.0       0.01      0.02      0.02       300\n",
      "         1.0       0.93      0.87      0.90      4427\n",
      "\n",
      "    accuracy                           0.82      4727\n",
      "   macro avg       0.47      0.45      0.46      4727\n",
      "weighted avg       0.87      0.82      0.84      4727\n",
      "\n",
      "Confusion Matrix\n",
      "[[   7  293]\n",
      " [ 563 3864]]\n",
      "정확도:0.8189126295747832, 정밀도:0.8713039263059613, 재현율:0.8189126295747832\n",
      "F1_Score:  0.8442962967881275\n",
      "None\n"
     ]
    }
   ],
   "source": [
    "# Carotid Only result\n",
    "print(get_CarotidModel_eval(Answer_Data_0907_phase2_real,prediction_real))\n",
    "\n",
    "confusion = confusion_matrix(Answer_Data_0907_phase2_real,prediction_real)\n"
   ]
  },
  {
   "cell_type": "code",
   "execution_count": 106,
   "id": "749f507f",
   "metadata": {},
   "outputs": [
    {
     "data": {
      "image/png": "[encoded data removed]",
      "text/plain": [
       "<Figure size 432x360 with 2 Axes>"
      ]
     },
     "metadata": {
      "needs_background": "light"
     },
     "output_type": "display_data"
    }
   ],
   "source": [
    "from sklearn.metrics import confusion_matrix, plot_confusion_matrix, ConfusionMatrixDisplay\n",
    "import seaborn as sns\n",
    "\n",
    "# 폰트 설정을 먼저 적용\n",
    "plt.rc('font', family='Arial', size=15)        \n",
    "plt.rc('axes', labelsize=15)   \n",
    "plt.rc('xtick', labelsize=15)  \n",
    "plt.rc('ytick', labelsize=15)\n",
    "\n",
    "# 실제 Confusion Matrix (count 기준)\n",
    "conf_matrix_counts = confusion_matrix(Answer_Data_0907_phase2_real, prediction_real, labels=[0, 1])\n",
    "\n",
    "# Normalized Confusion Matrix\n",
    "conf_matrix_normalized = confusion_matrix(Answer_Data_0907_phase2_real, prediction_real, labels=[0, 1], normalize='true')\n",
    "\n",
    "# 주석(annotation)에 퍼센트 + count 추가\n",
    "labels = np.array([\n",
    "    [f\"{conf_matrix_normalized[i, j]:.2f}\\n({conf_matrix_counts[i, j]})\" for j in range(2)]\n",
    "    for i in range(2)\n",
    "])\n",
    "\n",
    "# 사용자 정의 레이블 (숫자 대신 'Under', 'Over' 사용)\n",
    "class_names = ['Under', 'Over']\n",
    "\n",
    "# 시각화\n",
    "plt.figure(figsize=(6, 5))  # 그래프 크기 설정\n",
    "sns.heatmap(conf_matrix_normalized, annot=labels, fmt=\"\", cmap='Blues', linewidths=0.5, linecolor='black',\n",
    "            xticklabels=class_names, yticklabels=class_names) \n",
    "\n",
    "plt.xlabel('Predicted')\n",
    "plt.ylabel('True')\n",
    "#plt.title('Normalized Confusion Matrix with Sample Counts')\n",
    "\n",
    "plt.savefig(\"SVM_ClinicalConfusionMatrix_arial.tiff\", dpi=600, bbox_inches='tight')"
   ]
  },
  {
   "cell_type": "code",
   "execution_count": 98,
   "id": "a1848148",
   "metadata": {
    "scrolled": false
   },
   "outputs": [
    {
     "data": {
      "image/png": "[encoded data removed]",
      "text/plain": [
       "<Figure size 432x288 with 2 Axes>"
      ]
     },
     "metadata": {
      "needs_background": "light"
     },
     "output_type": "display_data"
    }
   ],
   "source": [
    "from sklearn.metrics import confusion_matrix, plot_confusion_matrix, ConfusionMatrixDisplay\n",
    "\n",
    "label = ['Under', 'Over']\n",
    "\n",
    "\n",
    "confusion = confusion_matrix(Answer_Data_0907_phase2_real,prediction_real)\n",
    "\n",
    "disp = ConfusionMatrixDisplay(confusion_matrix = confusion,\n",
    "                              display_labels = label\n",
    "                             )\n",
    "\n",
    "from sklearn.metrics import confusion_matrix, plot_confusion_matrix, ConfusionMatrixDisplay\n",
    "\n",
    "label = ['Under', 'Over']\n",
    "\n",
    "\n",
    "confusion = confusion_matrix(Answer_Data_0907_phase2_real,prediction_real)\n",
    "\n",
    "disp = ConfusionMatrixDisplay(confusion_matrix = confusion,\n",
    "                              display_labels = label\n",
    "                             )\n",
    "\n",
    "plt.rc('font',family='arial', size=12)        # 기본 폰트 크기\n",
    "plt.rc('axes', labelsize=12)   # x,y축 label 폰트 크기\n",
    "plt.rc('xtick', labelsize=12)  # x축 눈금 폰트 크기 \n",
    "plt.rc('ytick', labelsize=12)  # y축 눈금 폰트 크기\n",
    "disp.plot()\n",
    "\n",
    "plt.tight_layout()  # 레이아웃 조정\n",
    "#plt.savefig(\"SVM_ClinicalConfusionMatrix_arial.tiff\", dpi=600, bbox_inches='tight')\n",
    "plt.show()  # 플롯을 화면에 표시"
   ]
  },
  {
   "cell_type": "code",
   "execution_count": 99,
   "id": "6144621c",
   "metadata": {},
   "outputs": [
    {
     "name": "stdout",
     "output_type": "stream",
     "text": [
      "\n",
      "Accuracy: 0.82\n",
      "\n",
      "Micro Precision: 0.82\n",
      "Micro Recall: 0.82\n",
      "Micro F1-score: 0.82\n",
      "\n",
      "Macro Precision: 0.47\n",
      "Macro Recall: 0.45\n",
      "Macro F1-score: 0.46\n",
      "\n",
      "Weighted Precision: 0.87\n",
      "Weighted Recall: 0.82\n",
      "Weighted F1-score: 0.84\n",
      "\n",
      "Classification Report\n",
      "\n",
      "              precision    recall  f1-score   support\n",
      "\n",
      "       Under       0.01      0.02      0.02       300\n",
      "        Over       0.93      0.87      0.90      4427\n",
      "\n",
      "    accuracy                           0.82      4727\n",
      "   macro avg       0.47      0.45      0.46      4727\n",
      "weighted avg       0.87      0.82      0.84      4727\n",
      "\n"
     ]
    }
   ],
   "source": [
    "#importing accuracy_score, precision_score, recall_score, f1_score\n",
    "from sklearn.metrics import accuracy_score, precision_score, recall_score, f1_score\n",
    "print('\\nAccuracy: {:.2f}\\n'.format(accuracy_score(Answer_Data_0907_phase2_real,prediction_real)))\n",
    "\n",
    "print('Micro Precision: {:.2f}'.format(precision_score(Answer_Data_0907_phase2_real,prediction_real, average='micro')))\n",
    "print('Micro Recall: {:.2f}'.format(recall_score(Answer_Data_0907_phase2_real,prediction_real, average='micro')))\n",
    "print('Micro F1-score: {:.2f}\\n'.format(f1_score(Answer_Data_0907_phase2_real,prediction_real, average='micro')))\n",
    "\n",
    "print('Macro Precision: {:.2f}'.format(precision_score(Answer_Data_0907_phase2_real,prediction_real, average='macro')))\n",
    "print('Macro Recall: {:.2f}'.format(recall_score(Answer_Data_0907_phase2_real,prediction_real, average='macro')))\n",
    "print('Macro F1-score: {:.2f}\\n'.format(f1_score(Answer_Data_0907_phase2_real,prediction_real, average='macro')))\n",
    "\n",
    "print('Weighted Precision: {:.2f}'.format(precision_score(Answer_Data_0907_phase2_real,prediction_real, average='weighted')))\n",
    "print('Weighted Recall: {:.2f}'.format(recall_score(Answer_Data_0907_phase2_real,prediction_real, average='weighted')))\n",
    "print('Weighted F1-score: {:.2f}'.format(f1_score(Answer_Data_0907_phase2_real,prediction_real, average='weighted')))\n",
    "\n",
    "from sklearn.metrics import classification_report\n",
    "print('\\nClassification Report\\n')\n",
    "print(classification_report(Answer_Data_0907_phase2_real,prediction_real, target_names = ['Under','Over']))"
   ]
  },
  {
   "cell_type": "code",
   "execution_count": 100,
   "id": "aacd32d4",
   "metadata": {},
   "outputs": [
    {
     "name": "stderr",
     "output_type": "stream",
     "text": [
      "C:\\Users\\user\\anaconda3\\envs\\jun\\lib\\site-packages\\sklearn\\base.py:444: UserWarning: X has feature names, but SVC was fitted without feature names\n",
      "  f\"X has feature names, but {self.__class__.__name__} was fitted without\"\n"
     ]
    }
   ],
   "source": [
    "fprs1,tprs1,thresholds1 = roc_curve(Answer_Data_0907_phase2_real, model.predict_proba(External_Test_X)[:,1])"
   ]
  },
  {
   "cell_type": "code",
   "execution_count": 101,
   "id": "c76c450f",
   "metadata": {},
   "outputs": [
    {
     "name": "stdout",
     "output_type": "stream",
     "text": [
      "Roc AUC Curve 0.4480795873804683\n"
     ]
    }
   ],
   "source": [
    "print('Roc AUC Curve {}'.format(roc_auc_score(Answer_Data_0907_phase2_real,prediction_real)))"
   ]
  },
  {
   "cell_type": "code",
   "execution_count": 105,
   "id": "8a1d37c0",
   "metadata": {},
   "outputs": [
    {
     "data": {
      "image/png": "[encoded data removed]",
      "text/plain": [
       "<Figure size 648x504 with 1 Axes>"
      ]
     },
     "metadata": {
      "needs_background": "light"
     },
     "output_type": "display_data"
    }
   ],
   "source": [
    "plt.figure(figsize=(9,7))\n",
    "plt.plot([0,1],[0,1],label='STR')\n",
    "plt.plot(fprs1,tprs1,label='Clinic Field SVM (Threshold = 0.68ml, AUC=0.44)')\n",
    "plt.xlabel('FPR (False Positive Rate)')\n",
    "plt.ylabel('TPR (True Positive Rate)')\n",
    "#plt.legend(loc='lower right')\n",
    "plt.grid()\n",
    "\n",
    "\n",
    "plt.rc('font',family='arial', size=25)         # 기본 폰트 크기\n",
    "plt.rc('axes', labelsize=25)   # x,y축 label 폰트 크기\n",
    "plt.rc('xtick', labelsize=25)  # x축 눈금 폰트 크기 \n",
    "plt.rc('ytick', labelsize=25)  # y축 눈금 폰트 크기\n",
    "#plt.rc('legend', fontsize=20)  # 범례 폰트 크기\n",
    "#plt.rc('figure', titlesize=25) # figure title 폰트 크기\n",
    "\n",
    "plt.savefig(\"SVM_ClinicalRocCurve25.tiff\", dpi=300)"
   ]
  },
  {
   "cell_type": "code",
   "execution_count": null,
   "id": "99398398",
   "metadata": {},
   "outputs": [],
   "source": []
  },
  {
   "cell_type": "code",
   "execution_count": 52,
   "id": "b80e7d65",
   "metadata": {},
   "outputs": [],
   "source": [
    "import shap"
   ]
  },
  {
   "cell_type": "code",
   "execution_count": 53,
   "id": "fe72bb10",
   "metadata": {},
   "outputs": [],
   "source": [
    "backgroud_data = shap.sample(External_Test_X,100)"
   ]
  },
  {
   "cell_type": "code",
   "execution_count": 54,
   "id": "641e8840",
   "metadata": {},
   "outputs": [
    {
     "data": {
      "application/vnd.jupyter.widget-view+json": {
       "model_id": "09cffb1e355b4b1a8aada477a248decd",
       "version_major": 2,
       "version_minor": 0
      },
      "text/plain": [
       "  0%|          | 0/4727 [00:00<?, ?it/s]"
      ]
     },
     "metadata": {},
     "output_type": "display_data"
    }
   ],
   "source": [
    "import warnings \n",
    "warnings.filterwarnings(\"ignore\") \n",
    "explainer = shap.KernelExplainer(model.predict_proba, backgroud_data)\n",
    "shap_values = explainer.shap_values(External_Test_X)"
   ]
  },
  {
   "cell_type": "code",
   "execution_count": 55,
   "id": "cd442641",
   "metadata": {},
   "outputs": [],
   "source": [
    "feature_names = ['Depth','Rate','SABP','DABP','SPPG','DPPG','ETpeaks','ITPpeaks','MAP','ABP_Area','PPG_Area','Mean ABP','ABP Difference','PPG Difference', 'ABP Time Difference','PPG Time Difference']"
   ]
  },
  {
   "cell_type": "code",
   "execution_count": 64,
   "id": "88b318d9",
   "metadata": {},
   "outputs": [
    {
     "name": "stdout",
     "output_type": "stream",
     "text": [
      "Depth의 중요도 : 0.0\n",
      "Rate의 중요도 : 0.0\n",
      "SABP의 중요도 : 0.016354606221091594\n",
      "DABP의 중요도 : 0.10008390274180434\n",
      "SPPG의 중요도 : 0.033686135722783235\n",
      "DPPG의 중요도 : 0.05044175990693586\n",
      "ETpeaks의 중요도 : 0.05428180545101045\n",
      "ITPpeaks의 중요도 : 0.03137898907364679\n",
      "MAP의 중요도 : 0.08825814445320633\n",
      "ABP_Area의 중요도 : 0.1039802485451684\n",
      "PPG_Area의 중요도 : 0.0014018000047149042\n",
      "Mean ABP의 중요도 : 0.13929517742560824\n",
      "ABP Difference의 중요도 : 0.03620764901134617\n",
      "PPG Difference의 중요도 : 0.01034620938213812\n",
      "ABP Time Difference의 중요도 : 0.011318732304197382\n",
      "PPG Time Difference의 중요도 : 0.0755604461915011\n"
     ]
    }
   ],
   "source": [
    "for i in range (16):\n",
    "    feature_imp = np.mean(np.abs(list(shap_values[1][:,i])))\n",
    "    print(f'{feature_names[i]}의 중요도 :', feature_imp)"
   ]
  },
  {
   "cell_type": "code",
   "execution_count": 63,
   "id": "6bff9afb",
   "metadata": {},
   "outputs": [
    {
     "data": {
      "image/png": "[encoded data removed]",
      "text/plain": [
       "<Figure size 576x568.8 with 1 Axes>"
      ]
     },
     "metadata": {
      "needs_background": "light"
     },
     "output_type": "display_data"
    }
   ],
   "source": [
    "shap.summary_plot(shap_values[1],features = External_Test_X, feature_names=feature_names,  plot_type='bar') "
   ]
  },
  {
   "cell_type": "code",
   "execution_count": 62,
   "id": "26683b4b",
   "metadata": {},
   "outputs": [
    {
     "data": {
      "image/png": "[encoded data removed]",
      "text/plain": [
       "<Figure size 576x568.8 with 2 Axes>"
      ]
     },
     "metadata": {
      "needs_background": "light"
     },
     "output_type": "display_data"
    }
   ],
   "source": [
    "shap.summary_plot(shap_values[1], External_Test_X, feature_names=feature_names)"
   ]
  },
  {
   "cell_type": "code",
   "execution_count": null,
   "id": "fd13d637",
   "metadata": {},
   "outputs": [],
   "source": []
  },
  {
   "cell_type": "code",
   "execution_count": null,
   "id": "9cc0a2c4",
   "metadata": {},
   "outputs": [],
   "source": []
  }
 ],
 "metadata": {
  "kernelspec": {
   "display_name": "Python [conda env:jun] *",
   "language": "python",
   "name": "conda-env-jun-py"
  },
  "language_info": {
   "codemirror_mode": {
    "name": "ipython",
    "version": 3
   },
   "file_extension": ".py",
   "mimetype": "text/x-python",
   "name": "python",
   "nbconvert_exporter": "python",
   "pygments_lexer": "ipython3",
   "version": "3.7.11"
  }
 },
 "nbformat": 4,
 "nbformat_minor": 5
}
