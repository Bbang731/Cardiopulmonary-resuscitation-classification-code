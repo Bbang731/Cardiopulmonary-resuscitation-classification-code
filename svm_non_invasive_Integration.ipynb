{
 "cells": [
  {
   "cell_type": "code",
   "execution_count": 1,
   "id": "f0b981e9",
   "metadata": {},
   "outputs": [],
   "source": [
    "import numpy as np\n",
    "import pandas as pd\n",
    "from tensorflow import keras\n",
    "import tensorflow.keras\n",
    "import matplotlib\n",
    "import matplotlib.pyplot as plt\n",
    "from pathlib import Path\n",
    "from scipy.io import wavfile\n",
    "from scipy import signal\n",
    "from scipy.signal import find_peaks, peak_prominences\n",
    "from scipy.io import wavfile\n",
    "from scipy import signal, interpolate\n",
    "from scipy.interpolate import splrep, splev\n",
    "import joblib\n",
    "from xgboost import XGBClassifier\n",
    "from sklearn.preprocessing import MinMaxScaler\n",
    "\n",
    "# Data load\n",
    "\n",
    "Lucas = pd.read_csv(\"C:/Users/user/Desktop/인공지능 CPR/Beat2Beat_Data/Valid_Lucas_Error_Delete_2.csv\",dtype = 'float')#1\n"
   ]
  },
  {
   "cell_type": "code",
   "execution_count": 2,
   "id": "9e84af10",
   "metadata": {},
   "outputs": [
    {
     "data": {
      "text/plain": [
       "(4727, 25)"
      ]
     },
     "execution_count": 2,
     "metadata": {},
     "output_type": "execute_result"
    }
   ],
   "source": [
    "Lucas.shape"
   ]
  },
  {
   "cell_type": "code",
   "execution_count": 3,
   "id": "933bf700",
   "metadata": {},
   "outputs": [],
   "source": [
    "Input_Data_Beat2Beat = np.vstack([Lucas])"
   ]
  },
  {
   "cell_type": "code",
   "execution_count": 4,
   "id": "3bd23e4a",
   "metadata": {},
   "outputs": [
    {
     "data": {
      "text/plain": [
       "(4727, 25)"
      ]
     },
     "execution_count": 4,
     "metadata": {},
     "output_type": "execute_result"
    }
   ],
   "source": [
    "Input_Data_Beat2Beat.shape"
   ]
  },
  {
   "cell_type": "code",
   "execution_count": 5,
   "id": "14d18bd2",
   "metadata": {},
   "outputs": [
    {
     "data": {
      "text/plain": [
       "4727"
      ]
     },
     "execution_count": 5,
     "metadata": {},
     "output_type": "execute_result"
    }
   ],
   "source": [
    "len(Input_Data_Beat2Beat)"
   ]
  },
  {
   "cell_type": "code",
   "execution_count": 6,
   "id": "f57b8c13",
   "metadata": {
    "scrolled": true
   },
   "outputs": [
    {
     "name": "stdout",
     "output_type": "stream",
     "text": [
      "(4727, 25)\n"
     ]
    }
   ],
   "source": [
    "print(Input_Data_Beat2Beat.shape)"
   ]
  },
  {
   "cell_type": "code",
   "execution_count": 7,
   "id": "6f9eb4b8",
   "metadata": {},
   "outputs": [],
   "source": [
    "Total_Input_signal = Input_Data_Beat2Beat"
   ]
  },
  {
   "cell_type": "code",
   "execution_count": 8,
   "id": "b5fd56ab",
   "metadata": {
    "scrolled": true
   },
   "outputs": [
    {
     "name": "stdout",
     "output_type": "stream",
     "text": [
      "(4727, 25)\n"
     ]
    }
   ],
   "source": [
    "print(Total_Input_signal.shape)"
   ]
  },
  {
   "cell_type": "code",
   "execution_count": 9,
   "id": "5919a750",
   "metadata": {},
   "outputs": [
    {
     "name": "stdout",
     "output_type": "stream",
     "text": [
      "Depth: Max=  5.0 Min =  5.0\n",
      "Rate: Max=  100.0 Min =  100.0\n",
      "ABP Systolic: Max=  368.248311825279 Min =  35.4477784200666\n",
      "ABP Diastolic: Max=  43.148435025594 Min =  -56.9655177067553\n",
      "CVP Systolic: Max=  357.108375985774 Min =  12.072939693998\n",
      "CVP Diastolic: Max=  11.201996095897 Min =  -19.8917604137829\n",
      "PPG Systolic: Max=  0.0361704762680939 Min =  -0.0058188094980577\n",
      "PPG Diastolic: Max=  0.0488259008230161 Min =  -0.0011867468739715\n",
      "ETCo2: Max=  42.4294563097724 Min =  5.15407828667294\n",
      "ITP Peak: Max=  1.97779140246642 Min =  -0.0639515219775661\n",
      "MAP: Max=  110.68306845908 Min =  10.683075060074\n",
      "ABP Area: Max=  154.155545929159 Min =  15.2490579019512\n",
      "CVP Area: Max=  174.729593861127 Min =  8.82147837163213\n",
      "PPG Area: Max=  0.0014270151115014 Min =  -0.0019276500860247\n",
      "Mean ABP: Max=  130.099524720997 Min =  13.0141149237101\n",
      "ABP Difference: Max=  386.347865049299 Min =  35.3469700866599\n",
      "CVP Difference: Max=  355.316998155374 Min =  18.0190442815001\n",
      "PPG Difference: Max=  0.0167616409710602 Min =  -0.0349869340827767\n",
      "ABP Time Difference: Max=  1.01299999999992 Min =  0.298000000000002\n",
      "CVP Time Difference: Max=  1.22199999999998 Min =  0.120000000000005\n",
      "PPG Time Difference: Max=  0.706000000000017 Min =  0.0079999999999813\n",
      "Coronary Perfusion Pressure1 : Max=  25.5903221399237 Min =  -104.972783845854\n",
      "Coronary Perfusion Pressure2: Max=  41.4240773184624 Min =  -62.9062768243519\n",
      "Coronary Perfusion Pressure3: Max=  25.8345987961543 Min =  -52.2691563017424\n",
      "Carotid Volume: Max=  6.16089009800332 Min =  -1.67159166583096\n"
     ]
    }
   ],
   "source": [
    "print(\"Depth: Max= \",max(Total_Input_signal[:,0]),\"Min = \",min(Total_Input_signal[:,0]))\n",
    "print(\"Rate: Max= \",max(Total_Input_signal[:,1]),\"Min = \",min(Total_Input_signal[:,1]))\n",
    "print(\"ABP Systolic: Max= \",max(Total_Input_signal[:,2]),\"Min = \",min(Total_Input_signal[:,2]))\n",
    "print(\"ABP Diastolic: Max= \",max(Total_Input_signal[:,3]),\"Min = \",min(Total_Input_signal[:,3]))\n",
    "print(\"CVP Systolic: Max= \",max(Total_Input_signal[:,4]),\"Min = \",min(Total_Input_signal[:,4]))\n",
    "print(\"CVP Diastolic: Max= \",max(Total_Input_signal[:,5]),\"Min = \",min(Total_Input_signal[:,5]))\n",
    "print(\"PPG Systolic: Max= \",max(Total_Input_signal[:,6]),\"Min = \",min(Total_Input_signal[:,6]))\n",
    "print(\"PPG Diastolic: Max= \",max(Total_Input_signal[:,7]),\"Min = \",min(Total_Input_signal[:,7]))\n",
    "print(\"ETCo2: Max= \",max(Total_Input_signal[:,8]),\"Min = \",min(Total_Input_signal[:,8]))\n",
    "print(\"ITP Peak: Max= \",max(Total_Input_signal[:,9]),\"Min = \",min(Total_Input_signal[:,9]))\n",
    "print(\"MAP: Max= \",max(Total_Input_signal[:,10]),\"Min = \",min(Total_Input_signal[:,10]))\n",
    "print(\"ABP Area: Max= \",max(Total_Input_signal[:,11]),\"Min = \",min(Total_Input_signal[:,11]))\n",
    "print(\"CVP Area: Max= \",max(Total_Input_signal[:,12]),\"Min = \",min(Total_Input_signal[:,12]))\n",
    "print(\"PPG Area: Max= \",max(Total_Input_signal[:,13]),\"Min = \",min(Total_Input_signal[:,13]))\n",
    "print(\"Mean ABP: Max= \",max(Total_Input_signal[:,14]),\"Min = \",min(Total_Input_signal[:,14]))\n",
    "print(\"ABP Difference: Max= \",max(Total_Input_signal[:,15]),\"Min = \",min(Total_Input_signal[:,15]))\n",
    "print(\"CVP Difference: Max= \",max(Total_Input_signal[:,16]),\"Min = \",min(Total_Input_signal[:,16]))\n",
    "print(\"PPG Difference: Max= \",max(Total_Input_signal[:,17]),\"Min = \",min(Total_Input_signal[:,17]))\n",
    "print(\"ABP Time Difference: Max= \",max(Total_Input_signal[:,18]),\"Min = \",min(Total_Input_signal[:,18]))\n",
    "print(\"CVP Time Difference: Max= \",max(Total_Input_signal[:,19]),\"Min = \",min(Total_Input_signal[:,19]))\n",
    "print(\"PPG Time Difference: Max= \",max(Total_Input_signal[:,20]),\"Min = \",min(Total_Input_signal[:,20]))\n",
    "print(\"Coronary Perfusion Pressure1 : Max= \",max(Total_Input_signal[:,21]),\"Min = \",min(Total_Input_signal[:,21]))\n",
    "print(\"Coronary Perfusion Pressure2: Max= \",max(Total_Input_signal[:,22]),\"Min = \",min(Total_Input_signal[:,22]))\n",
    "print(\"Coronary Perfusion Pressure3: Max= \",max(Total_Input_signal[:,23]),\"Min = \",min(Total_Input_signal[:,23]))\n",
    "print(\"Carotid Volume: Max= \",max(Total_Input_signal[:,24]),\"Min = \",min(Total_Input_signal[:,24]))"
   ]
  },
  {
   "cell_type": "code",
   "execution_count": 10,
   "id": "c5ae89fb",
   "metadata": {},
   "outputs": [],
   "source": [
    "# 0~7 Normalize 필요\n",
    "\n",
    "def min_max_normalize(lst):\n",
    "    normalized = []\n",
    "    \n",
    "    for value in lst:\n",
    "        normalized_num = (value - min(lst)) / (max(lst) - min(lst))\n",
    "        normalized.append(normalized_num)\n",
    "    \n",
    "    return normalized\n",
    "\n",
    "Depth_Feature= np.append(Total_Input_signal[:,0],np.array([6,5]))\n",
    "Rate_Feature= np.append(Total_Input_signal[:,1],np.array([120,100]))\n",
    "\n",
    "SABP_Feature= np.append(Total_Input_signal[:,2],np.array([470,10]))\n",
    "DABP_Feature= np.append(Total_Input_signal[:,3],np.array([60,-60]))\n",
    "\n",
    "SCVP_Feature= np.append(Total_Input_signal[:,4],np.array([410,10]))\n",
    "DCVP_Feature= np.append(Total_Input_signal[:,5],np.array([50,-20]))\n",
    "\n",
    "SPPG_Feature= np.append(Total_Input_signal[:,6],np.array([0.05,-0.01]))\n",
    "DPPG_Feature= np.append(Total_Input_signal[:,7],np.array([0.05,-0.01]))\n",
    "\n",
    "ETmax = np.append(Total_Input_signal[:,8],np.array([50,5]))\n",
    "\n",
    "ITPmax = np.append(Total_Input_signal[:,9],np.array([2,-0.1]))\n",
    "\n",
    "MAP = np.append(Total_Input_signal[:,10],np.array([130,-10]))\n",
    "\n",
    "ABP_Area = np.append(Total_Input_signal[:,11],np.array([200,10]))\n",
    "\n",
    "CVP_Area = np.append(Total_Input_signal[:,12],np.array([200,2.5]))\n",
    "\n",
    "PPG_Area = np.append(Total_Input_signal[:,13],np.array([2,-2]))\n",
    "\n",
    "Mean_ABP = np.append(Total_Input_signal[:,14],np.array([140,0.7]))\n",
    "\n",
    "ABP_Difference = np.append(Total_Input_signal[:,15],np.array([400,20]))\n",
    "\n",
    "CVP_Difference = np.append(Total_Input_signal[:,16],np.array([420,0]))\n",
    "\n",
    "PPG_Difference = np.append(Total_Input_signal[:,17],np.array([0.05,-0.1]))\n",
    "\n",
    "ABP_Time_Difference = np.append(Total_Input_signal[:,18],np.array([3,0]))\n",
    "\n",
    "CVP_Time_Difference = np.append(Total_Input_signal[:,19],np.array([3,0]))\n",
    "\n",
    "PPG_Time_Difference = np.append(Total_Input_signal[:,20],np.array([1,0]))\n",
    "\n",
    "Coronary_Perfusion_Pressure1 = np.append(Total_Input_signal[:,21],np.array([300,-200]))\n",
    "\n",
    "Coronary_Perfusion_Pressure2 = np.append(Total_Input_signal[:,22],np.array([60,-60]))\n",
    "\n",
    "Coronary_Perfusion_Pressure3 = np.append(Total_Input_signal[:,23],np.array([150,-40]))"
   ]
  },
  {
   "cell_type": "code",
   "execution_count": 11,
   "id": "188e9e42",
   "metadata": {},
   "outputs": [],
   "source": [
    "Depth_Feature = np.delete(min_max_normalize(np.array(Depth_Feature)),(len(Input_Data_Beat2Beat),len(Input_Data_Beat2Beat)+1))\n",
    "Rate_Feature = np.delete(min_max_normalize(np.array(Rate_Feature)),(len(Input_Data_Beat2Beat),len(Input_Data_Beat2Beat)+1))\n",
    "SABP_Feature = np.delete(min_max_normalize(np.array(SABP_Feature)),(len(Input_Data_Beat2Beat),len(Input_Data_Beat2Beat)+1))\n",
    "DABP_Feature = np.delete(min_max_normalize(np.array(DABP_Feature)),(len(Input_Data_Beat2Beat),len(Input_Data_Beat2Beat)+1))\n",
    "SCVP_Feature = np.delete(min_max_normalize(np.array(SCVP_Feature)),(len(Input_Data_Beat2Beat),len(Input_Data_Beat2Beat)+1))\n",
    "DCVP_Feature = np.delete(min_max_normalize(np.array(DCVP_Feature)),(len(Input_Data_Beat2Beat),len(Input_Data_Beat2Beat)+1))\n",
    "SPPG_Feature = np.delete(min_max_normalize(np.array(SPPG_Feature)),(len(Input_Data_Beat2Beat),len(Input_Data_Beat2Beat)+1))\n",
    "DPPG_Feature = np.delete(min_max_normalize(np.array(DPPG_Feature)),(len(Input_Data_Beat2Beat),len(Input_Data_Beat2Beat)+1))\n",
    "ETmax = np.delete(min_max_normalize(np.array(ETmax)),(len(Input_Data_Beat2Beat),len(Input_Data_Beat2Beat)+1))\n",
    "ITPmax = np.delete(min_max_normalize(np.array(ITPmax)),(len(Input_Data_Beat2Beat),len(Input_Data_Beat2Beat)+1))\n",
    "MAP = np.delete(min_max_normalize(np.array(MAP)),(len(Input_Data_Beat2Beat),len(Input_Data_Beat2Beat)+1))\n",
    "ABP_Area = np.delete(min_max_normalize(np.array(ABP_Area)),(len(Input_Data_Beat2Beat),len(Input_Data_Beat2Beat)+1))\n",
    "CVP_Area = np.delete(min_max_normalize(np.array(CVP_Area)),(len(Input_Data_Beat2Beat),len(Input_Data_Beat2Beat)+1))\n",
    "PPG_Area = np.delete(min_max_normalize(np.array(PPG_Area)),(len(Input_Data_Beat2Beat),len(Input_Data_Beat2Beat)+1))\n",
    "Mean_ABP = np.delete(min_max_normalize(np.array(Mean_ABP)),(len(Input_Data_Beat2Beat),len(Input_Data_Beat2Beat)+1))\n",
    "ABP_Difference = np.delete(min_max_normalize(np.array(ABP_Difference)),(len(Input_Data_Beat2Beat),len(Input_Data_Beat2Beat)+1))\n",
    "CVP_Difference = np.delete(min_max_normalize(np.array(CVP_Difference)),(len(Input_Data_Beat2Beat),len(Input_Data_Beat2Beat)+1))\n",
    "PPG_Difference  = np.delete(min_max_normalize(np.array(PPG_Difference)),(len(Input_Data_Beat2Beat),len(Input_Data_Beat2Beat)+1))\n",
    "ABP_Time_Difference = np.delete(min_max_normalize(np.array(ABP_Time_Difference)),(len(Input_Data_Beat2Beat),len(Input_Data_Beat2Beat)+1))\n",
    "CVP_Time_Difference = np.delete(min_max_normalize(np.array(CVP_Time_Difference)),(len(Input_Data_Beat2Beat),len(Input_Data_Beat2Beat)+1))\n",
    "PPG_Time_Difference = np.delete(min_max_normalize(np.array(PPG_Time_Difference)),(len(Input_Data_Beat2Beat),len(Input_Data_Beat2Beat)+1))\n",
    "Coronary_Perfusion_Pressure1 = np.delete(min_max_normalize(np.array(Coronary_Perfusion_Pressure1)),(len(Input_Data_Beat2Beat),len(Input_Data_Beat2Beat)+1))\n",
    "Coronary_Perfusion_Pressure2 = np.delete(min_max_normalize(np.array(Coronary_Perfusion_Pressure2)),(len(Input_Data_Beat2Beat),len(Input_Data_Beat2Beat)+1))\n",
    "Coronary_Perfusion_Pressure3 = np.delete(min_max_normalize(np.array(Coronary_Perfusion_Pressure3)),(len(Input_Data_Beat2Beat),len(Input_Data_Beat2Beat)+1))"
   ]
  },
  {
   "cell_type": "code",
   "execution_count": 12,
   "id": "57f08923",
   "metadata": {},
   "outputs": [],
   "source": [
    "Total_Input_signal[:,0] = Depth_Feature\n",
    "Total_Input_signal[:,1] = Rate_Feature \n",
    "Total_Input_signal[:,2] = SABP_Feature\n",
    "Total_Input_signal[:,3] = DABP_Feature\n",
    "Total_Input_signal[:,4] = SCVP_Feature\n",
    "Total_Input_signal[:,5] = DCVP_Feature\n",
    "Total_Input_signal[:,6] = SPPG_Feature\n",
    "Total_Input_signal[:,7] = DPPG_Feature\n",
    "Total_Input_signal[:,8] = ETmax\n",
    "Total_Input_signal[:,9] = ITPmax\n",
    "Total_Input_signal[:,10] = MAP\n",
    "Total_Input_signal[:,11] = ABP_Area\n",
    "Total_Input_signal[:,12] = CVP_Area\n",
    "Total_Input_signal[:,13] = PPG_Area\n",
    "Total_Input_signal[:,14] = Mean_ABP\n",
    "Total_Input_signal[:,15] = ABP_Difference\n",
    "Total_Input_signal[:,16] = CVP_Difference\n",
    "Total_Input_signal[:,17] = PPG_Difference\n",
    "Total_Input_signal[:,18] = ABP_Time_Difference\n",
    "Total_Input_signal[:,19] = CVP_Time_Difference\n",
    "Total_Input_signal[:,20] = PPG_Time_Difference\n",
    "Total_Input_signal[:,21] = Coronary_Perfusion_Pressure1\n",
    "Total_Input_signal[:,22] = Coronary_Perfusion_Pressure2\n",
    "Total_Input_signal[:,23] = Coronary_Perfusion_Pressure3"
   ]
  },
  {
   "cell_type": "code",
   "execution_count": 13,
   "id": "055ade9a",
   "metadata": {},
   "outputs": [],
   "source": [
    "Total_Input_signal = pd.DataFrame(Total_Input_signal)"
   ]
  },
  {
   "cell_type": "code",
   "execution_count": 14,
   "id": "d24deed9",
   "metadata": {},
   "outputs": [],
   "source": [
    "# Rosc 0 평균 Beat Carotid Volume = 0.99 ml\n",
    "# Rosc X 평균 Beat Carotid Volume = 0.56 ml\n",
    "Carotid_data_62 = np.zeros(shape=(len(Total_Input_signal)), dtype =np.int8)\n",
    "Carotid_data_68 = np.zeros(shape=(len(Total_Input_signal)), dtype =np.int8)\n",
    "Carotid_data_89 = np.zeros(shape=(len(Total_Input_signal)), dtype =np.int8)\n",
    "Carotid_data_1 = np.zeros(shape=(len(Total_Input_signal)), dtype =np.int8)\n",
    "\n"
   ]
  },
  {
   "cell_type": "code",
   "execution_count": 16,
   "id": "e8016806",
   "metadata": {},
   "outputs": [],
   "source": [
    "# 0.68\n",
    "for i in range(0,len(Total_Input_signal)):\n",
    "    if Total_Input_signal.iloc[i,24] <= 0.6851:\n",
    "        Carotid_data_68 [i] = 0\n",
    "    elif Total_Input_signal.iloc[i,24] > 0.6851:\n",
    "        Carotid_data_68 [i] = 1"
   ]
  },
  {
   "cell_type": "code",
   "execution_count": 19,
   "id": "73341bb5",
   "metadata": {},
   "outputs": [],
   "source": [
    "Carotid_Threshold_value =[]\n",
    "Carotid_Threshold_value = np.transpose(np.vstack([Carotid_data_62,Carotid_data_68,Carotid_data_89,Carotid_data_1]))"
   ]
  },
  {
   "cell_type": "code",
   "execution_count": 20,
   "id": "f0c58645",
   "metadata": {},
   "outputs": [],
   "source": [
    "Total_Input_signal = np.hstack((Total_Input_signal,Carotid_Threshold_value))"
   ]
  },
  {
   "cell_type": "code",
   "execution_count": 21,
   "id": "e5dac867",
   "metadata": {},
   "outputs": [],
   "source": [
    "Total_Input_signal = pd.DataFrame(Total_Input_signal)"
   ]
  },
  {
   "cell_type": "code",
   "execution_count": 22,
   "id": "3d94dd3f",
   "metadata": {},
   "outputs": [],
   "source": [
    "Total_Input_signal = Total_Input_signal.set_axis(['Depth','Rate','SABP','DABP','SCVP','DCVP','SPPG','DPPG','ETpeaks','ITPpeaks','MAP','ABP_Area','CVP_Area','PPG_Area','Mean ABP','ABP Difference','CVP Difference','PPG Difference', 'ABP Time Difference','CVP Time Difference','PPG Time Difference','CPP1','CPP2','CPP3','Carotid Volume','0.62','0.68','0.89','1'],axis = 'columns')"
   ]
  },
  {
   "cell_type": "code",
   "execution_count": 23,
   "id": "e46e652f",
   "metadata": {
    "scrolled": false
   },
   "outputs": [
    {
     "data": {
      "text/html": [
       "<div>\n",
       "<style scoped>\n",
       "    .dataframe tbody tr th:only-of-type {\n",
       "        vertical-align: middle;\n",
       "    }\n",
       "\n",
       "    .dataframe tbody tr th {\n",
       "        vertical-align: top;\n",
       "    }\n",
       "\n",
       "    .dataframe thead th {\n",
       "        text-align: right;\n",
       "    }\n",
       "</style>\n",
       "<table border=\"1\" class=\"dataframe\">\n",
       "  <thead>\n",
       "    <tr style=\"text-align: right;\">\n",
       "      <th></th>\n",
       "      <th>Depth</th>\n",
       "      <th>Rate</th>\n",
       "      <th>SABP</th>\n",
       "      <th>DABP</th>\n",
       "      <th>SCVP</th>\n",
       "      <th>DCVP</th>\n",
       "      <th>SPPG</th>\n",
       "      <th>DPPG</th>\n",
       "      <th>ETpeaks</th>\n",
       "      <th>ITPpeaks</th>\n",
       "      <th>...</th>\n",
       "      <th>CVP Time Difference</th>\n",
       "      <th>PPG Time Difference</th>\n",
       "      <th>CPP1</th>\n",
       "      <th>CPP2</th>\n",
       "      <th>CPP3</th>\n",
       "      <th>Carotid Volume</th>\n",
       "      <th>0.62</th>\n",
       "      <th>0.68</th>\n",
       "      <th>0.89</th>\n",
       "      <th>1</th>\n",
       "    </tr>\n",
       "  </thead>\n",
       "  <tbody>\n",
       "    <tr>\n",
       "      <th>0</th>\n",
       "      <td>0.0</td>\n",
       "      <td>0.0</td>\n",
       "      <td>0.517805</td>\n",
       "      <td>0.431428</td>\n",
       "      <td>0.633759</td>\n",
       "      <td>0.213226</td>\n",
       "      <td>0.172589</td>\n",
       "      <td>0.178529</td>\n",
       "      <td>0.315266</td>\n",
       "      <td>0.133802</td>\n",
       "      <td>...</td>\n",
       "      <td>0.163667</td>\n",
       "      <td>0.378</td>\n",
       "      <td>0.369374</td>\n",
       "      <td>0.486158</td>\n",
       "      <td>0.242709</td>\n",
       "      <td>4.607660</td>\n",
       "      <td>1.0</td>\n",
       "      <td>1.0</td>\n",
       "      <td>1.0</td>\n",
       "      <td>1.0</td>\n",
       "    </tr>\n",
       "    <tr>\n",
       "      <th>1</th>\n",
       "      <td>0.0</td>\n",
       "      <td>0.0</td>\n",
       "      <td>0.519309</td>\n",
       "      <td>0.428999</td>\n",
       "      <td>0.635732</td>\n",
       "      <td>0.213245</td>\n",
       "      <td>0.156359</td>\n",
       "      <td>0.211896</td>\n",
       "      <td>0.315266</td>\n",
       "      <td>0.128295</td>\n",
       "      <td>...</td>\n",
       "      <td>0.163333</td>\n",
       "      <td>0.361</td>\n",
       "      <td>0.369179</td>\n",
       "      <td>0.483775</td>\n",
       "      <td>0.242225</td>\n",
       "      <td>4.544113</td>\n",
       "      <td>1.0</td>\n",
       "      <td>1.0</td>\n",
       "      <td>1.0</td>\n",
       "      <td>1.0</td>\n",
       "    </tr>\n",
       "    <tr>\n",
       "      <th>2</th>\n",
       "      <td>0.0</td>\n",
       "      <td>0.0</td>\n",
       "      <td>0.521883</td>\n",
       "      <td>0.430840</td>\n",
       "      <td>0.640206</td>\n",
       "      <td>0.214943</td>\n",
       "      <td>0.175741</td>\n",
       "      <td>0.214243</td>\n",
       "      <td>0.315266</td>\n",
       "      <td>0.123927</td>\n",
       "      <td>...</td>\n",
       "      <td>0.164667</td>\n",
       "      <td>0.197</td>\n",
       "      <td>0.367967</td>\n",
       "      <td>0.484605</td>\n",
       "      <td>0.241928</td>\n",
       "      <td>4.525881</td>\n",
       "      <td>1.0</td>\n",
       "      <td>1.0</td>\n",
       "      <td>1.0</td>\n",
       "      <td>1.0</td>\n",
       "    </tr>\n",
       "    <tr>\n",
       "      <th>3</th>\n",
       "      <td>0.0</td>\n",
       "      <td>0.0</td>\n",
       "      <td>0.527984</td>\n",
       "      <td>0.430171</td>\n",
       "      <td>0.647397</td>\n",
       "      <td>0.214132</td>\n",
       "      <td>0.206375</td>\n",
       "      <td>0.191000</td>\n",
       "      <td>0.315266</td>\n",
       "      <td>0.220838</td>\n",
       "      <td>...</td>\n",
       "      <td>0.165000</td>\n",
       "      <td>0.362</td>\n",
       "      <td>0.367827</td>\n",
       "      <td>0.484415</td>\n",
       "      <td>0.242484</td>\n",
       "      <td>4.579202</td>\n",
       "      <td>1.0</td>\n",
       "      <td>1.0</td>\n",
       "      <td>1.0</td>\n",
       "      <td>1.0</td>\n",
       "    </tr>\n",
       "    <tr>\n",
       "      <th>4</th>\n",
       "      <td>0.0</td>\n",
       "      <td>0.0</td>\n",
       "      <td>0.524711</td>\n",
       "      <td>0.448128</td>\n",
       "      <td>0.643306</td>\n",
       "      <td>0.250364</td>\n",
       "      <td>0.212921</td>\n",
       "      <td>0.172863</td>\n",
       "      <td>0.305716</td>\n",
       "      <td>0.540942</td>\n",
       "      <td>...</td>\n",
       "      <td>0.165333</td>\n",
       "      <td>0.384</td>\n",
       "      <td>0.368089</td>\n",
       "      <td>0.481311</td>\n",
       "      <td>0.242853</td>\n",
       "      <td>4.615489</td>\n",
       "      <td>1.0</td>\n",
       "      <td>1.0</td>\n",
       "      <td>1.0</td>\n",
       "      <td>1.0</td>\n",
       "    </tr>\n",
       "    <tr>\n",
       "      <th>...</th>\n",
       "      <td>...</td>\n",
       "      <td>...</td>\n",
       "      <td>...</td>\n",
       "      <td>...</td>\n",
       "      <td>...</td>\n",
       "      <td>...</td>\n",
       "      <td>...</td>\n",
       "      <td>...</td>\n",
       "      <td>...</td>\n",
       "      <td>...</td>\n",
       "      <td>...</td>\n",
       "      <td>...</td>\n",
       "      <td>...</td>\n",
       "      <td>...</td>\n",
       "      <td>...</td>\n",
       "      <td>...</td>\n",
       "      <td>...</td>\n",
       "      <td>...</td>\n",
       "      <td>...</td>\n",
       "      <td>...</td>\n",
       "      <td>...</td>\n",
       "    </tr>\n",
       "    <tr>\n",
       "      <th>4722</th>\n",
       "      <td>0.0</td>\n",
       "      <td>0.0</td>\n",
       "      <td>0.405321</td>\n",
       "      <td>0.720855</td>\n",
       "      <td>0.493426</td>\n",
       "      <td>0.301291</td>\n",
       "      <td>0.237774</td>\n",
       "      <td>0.226020</td>\n",
       "      <td>0.331334</td>\n",
       "      <td>0.473879</td>\n",
       "      <td>...</td>\n",
       "      <td>0.167667</td>\n",
       "      <td>0.405</td>\n",
       "      <td>0.378154</td>\n",
       "      <td>0.718584</td>\n",
       "      <td>0.326011</td>\n",
       "      <td>3.863851</td>\n",
       "      <td>1.0</td>\n",
       "      <td>1.0</td>\n",
       "      <td>1.0</td>\n",
       "      <td>1.0</td>\n",
       "    </tr>\n",
       "    <tr>\n",
       "      <th>4723</th>\n",
       "      <td>0.0</td>\n",
       "      <td>0.0</td>\n",
       "      <td>0.360221</td>\n",
       "      <td>0.724006</td>\n",
       "      <td>0.450001</td>\n",
       "      <td>0.319569</td>\n",
       "      <td>0.227160</td>\n",
       "      <td>0.222552</td>\n",
       "      <td>0.331334</td>\n",
       "      <td>0.605013</td>\n",
       "      <td>...</td>\n",
       "      <td>0.170333</td>\n",
       "      <td>0.415</td>\n",
       "      <td>0.371402</td>\n",
       "      <td>0.711251</td>\n",
       "      <td>0.323023</td>\n",
       "      <td>3.773584</td>\n",
       "      <td>1.0</td>\n",
       "      <td>1.0</td>\n",
       "      <td>1.0</td>\n",
       "      <td>1.0</td>\n",
       "    </tr>\n",
       "    <tr>\n",
       "      <th>4724</th>\n",
       "      <td>0.0</td>\n",
       "      <td>0.0</td>\n",
       "      <td>0.377004</td>\n",
       "      <td>0.735642</td>\n",
       "      <td>0.467945</td>\n",
       "      <td>0.297554</td>\n",
       "      <td>0.209170</td>\n",
       "      <td>0.229322</td>\n",
       "      <td>0.331334</td>\n",
       "      <td>0.185222</td>\n",
       "      <td>...</td>\n",
       "      <td>0.169333</td>\n",
       "      <td>0.408</td>\n",
       "      <td>0.372487</td>\n",
       "      <td>0.735150</td>\n",
       "      <td>0.330498</td>\n",
       "      <td>3.912735</td>\n",
       "      <td>1.0</td>\n",
       "      <td>1.0</td>\n",
       "      <td>1.0</td>\n",
       "      <td>1.0</td>\n",
       "    </tr>\n",
       "    <tr>\n",
       "      <th>4725</th>\n",
       "      <td>0.0</td>\n",
       "      <td>0.0</td>\n",
       "      <td>0.393147</td>\n",
       "      <td>0.734227</td>\n",
       "      <td>0.482049</td>\n",
       "      <td>0.284042</td>\n",
       "      <td>0.200880</td>\n",
       "      <td>0.203630</td>\n",
       "      <td>0.331334</td>\n",
       "      <td>0.146878</td>\n",
       "      <td>...</td>\n",
       "      <td>0.172333</td>\n",
       "      <td>0.401</td>\n",
       "      <td>0.376056</td>\n",
       "      <td>0.741464</td>\n",
       "      <td>0.331968</td>\n",
       "      <td>3.854632</td>\n",
       "      <td>1.0</td>\n",
       "      <td>1.0</td>\n",
       "      <td>1.0</td>\n",
       "      <td>1.0</td>\n",
       "    </tr>\n",
       "    <tr>\n",
       "      <th>4726</th>\n",
       "      <td>0.0</td>\n",
       "      <td>0.0</td>\n",
       "      <td>0.388258</td>\n",
       "      <td>0.725403</td>\n",
       "      <td>0.473146</td>\n",
       "      <td>0.275363</td>\n",
       "      <td>0.185112</td>\n",
       "      <td>0.214218</td>\n",
       "      <td>0.331334</td>\n",
       "      <td>0.132846</td>\n",
       "      <td>...</td>\n",
       "      <td>0.174000</td>\n",
       "      <td>0.394</td>\n",
       "      <td>0.378681</td>\n",
       "      <td>0.737792</td>\n",
       "      <td>0.331197</td>\n",
       "      <td>3.780478</td>\n",
       "      <td>1.0</td>\n",
       "      <td>1.0</td>\n",
       "      <td>1.0</td>\n",
       "      <td>1.0</td>\n",
       "    </tr>\n",
       "  </tbody>\n",
       "</table>\n",
       "<p>4727 rows × 29 columns</p>\n",
       "</div>"
      ],
      "text/plain": [
       "      Depth  Rate      SABP      DABP      SCVP      DCVP      SPPG      DPPG  \\\n",
       "0       0.0   0.0  0.517805  0.431428  0.633759  0.213226  0.172589  0.178529   \n",
       "1       0.0   0.0  0.519309  0.428999  0.635732  0.213245  0.156359  0.211896   \n",
       "2       0.0   0.0  0.521883  0.430840  0.640206  0.214943  0.175741  0.214243   \n",
       "3       0.0   0.0  0.527984  0.430171  0.647397  0.214132  0.206375  0.191000   \n",
       "4       0.0   0.0  0.524711  0.448128  0.643306  0.250364  0.212921  0.172863   \n",
       "...     ...   ...       ...       ...       ...       ...       ...       ...   \n",
       "4722    0.0   0.0  0.405321  0.720855  0.493426  0.301291  0.237774  0.226020   \n",
       "4723    0.0   0.0  0.360221  0.724006  0.450001  0.319569  0.227160  0.222552   \n",
       "4724    0.0   0.0  0.377004  0.735642  0.467945  0.297554  0.209170  0.229322   \n",
       "4725    0.0   0.0  0.393147  0.734227  0.482049  0.284042  0.200880  0.203630   \n",
       "4726    0.0   0.0  0.388258  0.725403  0.473146  0.275363  0.185112  0.214218   \n",
       "\n",
       "       ETpeaks  ITPpeaks  ...  CVP Time Difference  PPG Time Difference  \\\n",
       "0     0.315266  0.133802  ...             0.163667                0.378   \n",
       "1     0.315266  0.128295  ...             0.163333                0.361   \n",
       "2     0.315266  0.123927  ...             0.164667                0.197   \n",
       "3     0.315266  0.220838  ...             0.165000                0.362   \n",
       "4     0.305716  0.540942  ...             0.165333                0.384   \n",
       "...        ...       ...  ...                  ...                  ...   \n",
       "4722  0.331334  0.473879  ...             0.167667                0.405   \n",
       "4723  0.331334  0.605013  ...             0.170333                0.415   \n",
       "4724  0.331334  0.185222  ...             0.169333                0.408   \n",
       "4725  0.331334  0.146878  ...             0.172333                0.401   \n",
       "4726  0.331334  0.132846  ...             0.174000                0.394   \n",
       "\n",
       "          CPP1      CPP2      CPP3  Carotid Volume  0.62  0.68  0.89    1  \n",
       "0     0.369374  0.486158  0.242709        4.607660   1.0   1.0   1.0  1.0  \n",
       "1     0.369179  0.483775  0.242225        4.544113   1.0   1.0   1.0  1.0  \n",
       "2     0.367967  0.484605  0.241928        4.525881   1.0   1.0   1.0  1.0  \n",
       "3     0.367827  0.484415  0.242484        4.579202   1.0   1.0   1.0  1.0  \n",
       "4     0.368089  0.481311  0.242853        4.615489   1.0   1.0   1.0  1.0  \n",
       "...        ...       ...       ...             ...   ...   ...   ...  ...  \n",
       "4722  0.378154  0.718584  0.326011        3.863851   1.0   1.0   1.0  1.0  \n",
       "4723  0.371402  0.711251  0.323023        3.773584   1.0   1.0   1.0  1.0  \n",
       "4724  0.372487  0.735150  0.330498        3.912735   1.0   1.0   1.0  1.0  \n",
       "4725  0.376056  0.741464  0.331968        3.854632   1.0   1.0   1.0  1.0  \n",
       "4726  0.378681  0.737792  0.331197        3.780478   1.0   1.0   1.0  1.0  \n",
       "\n",
       "[4727 rows x 29 columns]"
      ]
     },
     "execution_count": 23,
     "metadata": {},
     "output_type": "execute_result"
    }
   ],
   "source": [
    "Total_Input_signal"
   ]
  },
  {
   "cell_type": "code",
   "execution_count": 24,
   "id": "83684a51",
   "metadata": {},
   "outputs": [],
   "source": [
    "Total_Input_signal = Total_Input_signal.drop(['SABP','DABP','SCVP','DCVP','MAP','ABP_Area','CVP_Area','Mean ABP','ABP Difference','CVP Difference','ABP Time Difference','CVP Time Difference','CPP1','CPP2','CPP3'],axis=1) #- 모두"
   ]
  },
  {
   "cell_type": "code",
   "execution_count": 25,
   "id": "a43fd1c3",
   "metadata": {},
   "outputs": [
    {
     "data": {
      "text/html": [
       "<div>\n",
       "<style scoped>\n",
       "    .dataframe tbody tr th:only-of-type {\n",
       "        vertical-align: middle;\n",
       "    }\n",
       "\n",
       "    .dataframe tbody tr th {\n",
       "        vertical-align: top;\n",
       "    }\n",
       "\n",
       "    .dataframe thead th {\n",
       "        text-align: right;\n",
       "    }\n",
       "</style>\n",
       "<table border=\"1\" class=\"dataframe\">\n",
       "  <thead>\n",
       "    <tr style=\"text-align: right;\">\n",
       "      <th></th>\n",
       "      <th>Depth</th>\n",
       "      <th>Rate</th>\n",
       "      <th>SPPG</th>\n",
       "      <th>DPPG</th>\n",
       "      <th>ETpeaks</th>\n",
       "      <th>ITPpeaks</th>\n",
       "      <th>PPG_Area</th>\n",
       "      <th>PPG Difference</th>\n",
       "      <th>PPG Time Difference</th>\n",
       "      <th>Carotid Volume</th>\n",
       "      <th>0.62</th>\n",
       "      <th>0.68</th>\n",
       "      <th>0.89</th>\n",
       "      <th>1</th>\n",
       "    </tr>\n",
       "  </thead>\n",
       "  <tbody>\n",
       "    <tr>\n",
       "      <th>0</th>\n",
       "      <td>0.0</td>\n",
       "      <td>0.0</td>\n",
       "      <td>0.172589</td>\n",
       "      <td>0.178529</td>\n",
       "      <td>0.315266</td>\n",
       "      <td>0.133802</td>\n",
       "      <td>0.500085</td>\n",
       "      <td>0.664291</td>\n",
       "      <td>0.378</td>\n",
       "      <td>4.607660</td>\n",
       "      <td>1.0</td>\n",
       "      <td>1.0</td>\n",
       "      <td>1.0</td>\n",
       "      <td>1.0</td>\n",
       "    </tr>\n",
       "    <tr>\n",
       "      <th>1</th>\n",
       "      <td>0.0</td>\n",
       "      <td>0.0</td>\n",
       "      <td>0.156359</td>\n",
       "      <td>0.211896</td>\n",
       "      <td>0.315266</td>\n",
       "      <td>0.128295</td>\n",
       "      <td>0.500026</td>\n",
       "      <td>0.644452</td>\n",
       "      <td>0.361</td>\n",
       "      <td>4.544113</td>\n",
       "      <td>1.0</td>\n",
       "      <td>1.0</td>\n",
       "      <td>1.0</td>\n",
       "      <td>1.0</td>\n",
       "    </tr>\n",
       "    <tr>\n",
       "      <th>2</th>\n",
       "      <td>0.0</td>\n",
       "      <td>0.0</td>\n",
       "      <td>0.175741</td>\n",
       "      <td>0.214243</td>\n",
       "      <td>0.315266</td>\n",
       "      <td>0.123927</td>\n",
       "      <td>0.499955</td>\n",
       "      <td>0.651266</td>\n",
       "      <td>0.197</td>\n",
       "      <td>4.525881</td>\n",
       "      <td>1.0</td>\n",
       "      <td>1.0</td>\n",
       "      <td>1.0</td>\n",
       "      <td>1.0</td>\n",
       "    </tr>\n",
       "    <tr>\n",
       "      <th>3</th>\n",
       "      <td>0.0</td>\n",
       "      <td>0.0</td>\n",
       "      <td>0.206375</td>\n",
       "      <td>0.191000</td>\n",
       "      <td>0.315266</td>\n",
       "      <td>0.220838</td>\n",
       "      <td>0.499927</td>\n",
       "      <td>0.672817</td>\n",
       "      <td>0.362</td>\n",
       "      <td>4.579202</td>\n",
       "      <td>1.0</td>\n",
       "      <td>1.0</td>\n",
       "      <td>1.0</td>\n",
       "      <td>1.0</td>\n",
       "    </tr>\n",
       "    <tr>\n",
       "      <th>4</th>\n",
       "      <td>0.0</td>\n",
       "      <td>0.0</td>\n",
       "      <td>0.212921</td>\n",
       "      <td>0.172863</td>\n",
       "      <td>0.305716</td>\n",
       "      <td>0.540942</td>\n",
       "      <td>0.499977</td>\n",
       "      <td>0.682690</td>\n",
       "      <td>0.384</td>\n",
       "      <td>4.615489</td>\n",
       "      <td>1.0</td>\n",
       "      <td>1.0</td>\n",
       "      <td>1.0</td>\n",
       "      <td>1.0</td>\n",
       "    </tr>\n",
       "    <tr>\n",
       "      <th>...</th>\n",
       "      <td>...</td>\n",
       "      <td>...</td>\n",
       "      <td>...</td>\n",
       "      <td>...</td>\n",
       "      <td>...</td>\n",
       "      <td>...</td>\n",
       "      <td>...</td>\n",
       "      <td>...</td>\n",
       "      <td>...</td>\n",
       "      <td>...</td>\n",
       "      <td>...</td>\n",
       "      <td>...</td>\n",
       "      <td>...</td>\n",
       "      <td>...</td>\n",
       "    </tr>\n",
       "    <tr>\n",
       "      <th>4722</th>\n",
       "      <td>0.0</td>\n",
       "      <td>0.0</td>\n",
       "      <td>0.237774</td>\n",
       "      <td>0.226020</td>\n",
       "      <td>0.331334</td>\n",
       "      <td>0.473879</td>\n",
       "      <td>0.499985</td>\n",
       "      <td>0.671368</td>\n",
       "      <td>0.405</td>\n",
       "      <td>3.863851</td>\n",
       "      <td>1.0</td>\n",
       "      <td>1.0</td>\n",
       "      <td>1.0</td>\n",
       "      <td>1.0</td>\n",
       "    </tr>\n",
       "    <tr>\n",
       "      <th>4723</th>\n",
       "      <td>0.0</td>\n",
       "      <td>0.0</td>\n",
       "      <td>0.227160</td>\n",
       "      <td>0.222552</td>\n",
       "      <td>0.331334</td>\n",
       "      <td>0.605013</td>\n",
       "      <td>0.500020</td>\n",
       "      <td>0.668510</td>\n",
       "      <td>0.415</td>\n",
       "      <td>3.773584</td>\n",
       "      <td>1.0</td>\n",
       "      <td>1.0</td>\n",
       "      <td>1.0</td>\n",
       "      <td>1.0</td>\n",
       "    </tr>\n",
       "    <tr>\n",
       "      <th>4724</th>\n",
       "      <td>0.0</td>\n",
       "      <td>0.0</td>\n",
       "      <td>0.209170</td>\n",
       "      <td>0.229322</td>\n",
       "      <td>0.331334</td>\n",
       "      <td>0.185222</td>\n",
       "      <td>0.500001</td>\n",
       "      <td>0.658606</td>\n",
       "      <td>0.408</td>\n",
       "      <td>3.912735</td>\n",
       "      <td>1.0</td>\n",
       "      <td>1.0</td>\n",
       "      <td>1.0</td>\n",
       "      <td>1.0</td>\n",
       "    </tr>\n",
       "    <tr>\n",
       "      <th>4725</th>\n",
       "      <td>0.0</td>\n",
       "      <td>0.0</td>\n",
       "      <td>0.200880</td>\n",
       "      <td>0.203630</td>\n",
       "      <td>0.331334</td>\n",
       "      <td>0.146878</td>\n",
       "      <td>0.499984</td>\n",
       "      <td>0.665567</td>\n",
       "      <td>0.401</td>\n",
       "      <td>3.854632</td>\n",
       "      <td>1.0</td>\n",
       "      <td>1.0</td>\n",
       "      <td>1.0</td>\n",
       "      <td>1.0</td>\n",
       "    </tr>\n",
       "    <tr>\n",
       "      <th>4726</th>\n",
       "      <td>0.0</td>\n",
       "      <td>0.0</td>\n",
       "      <td>0.185112</td>\n",
       "      <td>0.214218</td>\n",
       "      <td>0.331334</td>\n",
       "      <td>0.132846</td>\n",
       "      <td>0.499987</td>\n",
       "      <td>0.655024</td>\n",
       "      <td>0.394</td>\n",
       "      <td>3.780478</td>\n",
       "      <td>1.0</td>\n",
       "      <td>1.0</td>\n",
       "      <td>1.0</td>\n",
       "      <td>1.0</td>\n",
       "    </tr>\n",
       "  </tbody>\n",
       "</table>\n",
       "<p>4727 rows × 14 columns</p>\n",
       "</div>"
      ],
      "text/plain": [
       "      Depth  Rate      SPPG      DPPG   ETpeaks  ITPpeaks  PPG_Area  \\\n",
       "0       0.0   0.0  0.172589  0.178529  0.315266  0.133802  0.500085   \n",
       "1       0.0   0.0  0.156359  0.211896  0.315266  0.128295  0.500026   \n",
       "2       0.0   0.0  0.175741  0.214243  0.315266  0.123927  0.499955   \n",
       "3       0.0   0.0  0.206375  0.191000  0.315266  0.220838  0.499927   \n",
       "4       0.0   0.0  0.212921  0.172863  0.305716  0.540942  0.499977   \n",
       "...     ...   ...       ...       ...       ...       ...       ...   \n",
       "4722    0.0   0.0  0.237774  0.226020  0.331334  0.473879  0.499985   \n",
       "4723    0.0   0.0  0.227160  0.222552  0.331334  0.605013  0.500020   \n",
       "4724    0.0   0.0  0.209170  0.229322  0.331334  0.185222  0.500001   \n",
       "4725    0.0   0.0  0.200880  0.203630  0.331334  0.146878  0.499984   \n",
       "4726    0.0   0.0  0.185112  0.214218  0.331334  0.132846  0.499987   \n",
       "\n",
       "      PPG Difference  PPG Time Difference  Carotid Volume  0.62  0.68  0.89  \\\n",
       "0           0.664291                0.378        4.607660   1.0   1.0   1.0   \n",
       "1           0.644452                0.361        4.544113   1.0   1.0   1.0   \n",
       "2           0.651266                0.197        4.525881   1.0   1.0   1.0   \n",
       "3           0.672817                0.362        4.579202   1.0   1.0   1.0   \n",
       "4           0.682690                0.384        4.615489   1.0   1.0   1.0   \n",
       "...              ...                  ...             ...   ...   ...   ...   \n",
       "4722        0.671368                0.405        3.863851   1.0   1.0   1.0   \n",
       "4723        0.668510                0.415        3.773584   1.0   1.0   1.0   \n",
       "4724        0.658606                0.408        3.912735   1.0   1.0   1.0   \n",
       "4725        0.665567                0.401        3.854632   1.0   1.0   1.0   \n",
       "4726        0.655024                0.394        3.780478   1.0   1.0   1.0   \n",
       "\n",
       "        1  \n",
       "0     1.0  \n",
       "1     1.0  \n",
       "2     1.0  \n",
       "3     1.0  \n",
       "4     1.0  \n",
       "...   ...  \n",
       "4722  1.0  \n",
       "4723  1.0  \n",
       "4724  1.0  \n",
       "4725  1.0  \n",
       "4726  1.0  \n",
       "\n",
       "[4727 rows x 14 columns]"
      ]
     },
     "execution_count": 25,
     "metadata": {},
     "output_type": "execute_result"
    }
   ],
   "source": [
    "pd.set_option('display.max_columns',None)\n",
    "Total_Input_signal"
   ]
  },
  {
   "cell_type": "code",
   "execution_count": 26,
   "id": "c693f44f",
   "metadata": {
    "scrolled": true
   },
   "outputs": [],
   "source": [
    "Pig1 = Total_Input_signal.iloc[:,11]"
   ]
  },
  {
   "cell_type": "code",
   "execution_count": 27,
   "id": "1f9504c5",
   "metadata": {},
   "outputs": [
    {
     "data": {
      "text/plain": [
       "0       1.0\n",
       "1       1.0\n",
       "2       1.0\n",
       "3       1.0\n",
       "4       1.0\n",
       "       ... \n",
       "4722    1.0\n",
       "4723    1.0\n",
       "4724    1.0\n",
       "4725    1.0\n",
       "4726    1.0\n",
       "Name: 0.68, Length: 4727, dtype: float64"
      ]
     },
     "execution_count": 27,
     "metadata": {},
     "output_type": "execute_result"
    }
   ],
   "source": [
    "Pig1"
   ]
  },
  {
   "cell_type": "code",
   "execution_count": 28,
   "id": "070d809c",
   "metadata": {},
   "outputs": [],
   "source": [
    "Pig1 = pd.DataFrame(Pig1)"
   ]
  },
  {
   "cell_type": "code",
   "execution_count": 29,
   "id": "6ef7a2c7",
   "metadata": {},
   "outputs": [
    {
     "name": "stdout",
     "output_type": "stream",
     "text": [
      "Test set(P1):  (array([0., 1.]), array([ 300, 4427], dtype=int64))\n"
     ]
    }
   ],
   "source": [
    "print('Test set(P1): ',np.unique(Pig1,return_counts=True))       # Data 구성 확인 "
   ]
  },
  {
   "cell_type": "code",
   "execution_count": 30,
   "id": "2052b822",
   "metadata": {},
   "outputs": [],
   "source": [
    "External_Test_X = Total_Input_signal.iloc[:,0:9]\n",
    "External_Test_Y = Pig1\n",
    "Answer_0907 = np.array(Pig1)"
   ]
  },
  {
   "cell_type": "code",
   "execution_count": 31,
   "id": "7e000279",
   "metadata": {},
   "outputs": [
    {
     "data": {
      "text/html": [
       "<div>\n",
       "<style scoped>\n",
       "    .dataframe tbody tr th:only-of-type {\n",
       "        vertical-align: middle;\n",
       "    }\n",
       "\n",
       "    .dataframe tbody tr th {\n",
       "        vertical-align: top;\n",
       "    }\n",
       "\n",
       "    .dataframe thead th {\n",
       "        text-align: right;\n",
       "    }\n",
       "</style>\n",
       "<table border=\"1\" class=\"dataframe\">\n",
       "  <thead>\n",
       "    <tr style=\"text-align: right;\">\n",
       "      <th></th>\n",
       "      <th>Depth</th>\n",
       "      <th>Rate</th>\n",
       "      <th>SPPG</th>\n",
       "      <th>DPPG</th>\n",
       "      <th>ETpeaks</th>\n",
       "      <th>ITPpeaks</th>\n",
       "      <th>PPG_Area</th>\n",
       "      <th>PPG Difference</th>\n",
       "      <th>PPG Time Difference</th>\n",
       "    </tr>\n",
       "  </thead>\n",
       "  <tbody>\n",
       "    <tr>\n",
       "      <th>0</th>\n",
       "      <td>0.0</td>\n",
       "      <td>0.0</td>\n",
       "      <td>0.172589</td>\n",
       "      <td>0.178529</td>\n",
       "      <td>0.315266</td>\n",
       "      <td>0.133802</td>\n",
       "      <td>0.500085</td>\n",
       "      <td>0.664291</td>\n",
       "      <td>0.378</td>\n",
       "    </tr>\n",
       "    <tr>\n",
       "      <th>1</th>\n",
       "      <td>0.0</td>\n",
       "      <td>0.0</td>\n",
       "      <td>0.156359</td>\n",
       "      <td>0.211896</td>\n",
       "      <td>0.315266</td>\n",
       "      <td>0.128295</td>\n",
       "      <td>0.500026</td>\n",
       "      <td>0.644452</td>\n",
       "      <td>0.361</td>\n",
       "    </tr>\n",
       "    <tr>\n",
       "      <th>2</th>\n",
       "      <td>0.0</td>\n",
       "      <td>0.0</td>\n",
       "      <td>0.175741</td>\n",
       "      <td>0.214243</td>\n",
       "      <td>0.315266</td>\n",
       "      <td>0.123927</td>\n",
       "      <td>0.499955</td>\n",
       "      <td>0.651266</td>\n",
       "      <td>0.197</td>\n",
       "    </tr>\n",
       "    <tr>\n",
       "      <th>3</th>\n",
       "      <td>0.0</td>\n",
       "      <td>0.0</td>\n",
       "      <td>0.206375</td>\n",
       "      <td>0.191000</td>\n",
       "      <td>0.315266</td>\n",
       "      <td>0.220838</td>\n",
       "      <td>0.499927</td>\n",
       "      <td>0.672817</td>\n",
       "      <td>0.362</td>\n",
       "    </tr>\n",
       "    <tr>\n",
       "      <th>4</th>\n",
       "      <td>0.0</td>\n",
       "      <td>0.0</td>\n",
       "      <td>0.212921</td>\n",
       "      <td>0.172863</td>\n",
       "      <td>0.305716</td>\n",
       "      <td>0.540942</td>\n",
       "      <td>0.499977</td>\n",
       "      <td>0.682690</td>\n",
       "      <td>0.384</td>\n",
       "    </tr>\n",
       "    <tr>\n",
       "      <th>...</th>\n",
       "      <td>...</td>\n",
       "      <td>...</td>\n",
       "      <td>...</td>\n",
       "      <td>...</td>\n",
       "      <td>...</td>\n",
       "      <td>...</td>\n",
       "      <td>...</td>\n",
       "      <td>...</td>\n",
       "      <td>...</td>\n",
       "    </tr>\n",
       "    <tr>\n",
       "      <th>4722</th>\n",
       "      <td>0.0</td>\n",
       "      <td>0.0</td>\n",
       "      <td>0.237774</td>\n",
       "      <td>0.226020</td>\n",
       "      <td>0.331334</td>\n",
       "      <td>0.473879</td>\n",
       "      <td>0.499985</td>\n",
       "      <td>0.671368</td>\n",
       "      <td>0.405</td>\n",
       "    </tr>\n",
       "    <tr>\n",
       "      <th>4723</th>\n",
       "      <td>0.0</td>\n",
       "      <td>0.0</td>\n",
       "      <td>0.227160</td>\n",
       "      <td>0.222552</td>\n",
       "      <td>0.331334</td>\n",
       "      <td>0.605013</td>\n",
       "      <td>0.500020</td>\n",
       "      <td>0.668510</td>\n",
       "      <td>0.415</td>\n",
       "    </tr>\n",
       "    <tr>\n",
       "      <th>4724</th>\n",
       "      <td>0.0</td>\n",
       "      <td>0.0</td>\n",
       "      <td>0.209170</td>\n",
       "      <td>0.229322</td>\n",
       "      <td>0.331334</td>\n",
       "      <td>0.185222</td>\n",
       "      <td>0.500001</td>\n",
       "      <td>0.658606</td>\n",
       "      <td>0.408</td>\n",
       "    </tr>\n",
       "    <tr>\n",
       "      <th>4725</th>\n",
       "      <td>0.0</td>\n",
       "      <td>0.0</td>\n",
       "      <td>0.200880</td>\n",
       "      <td>0.203630</td>\n",
       "      <td>0.331334</td>\n",
       "      <td>0.146878</td>\n",
       "      <td>0.499984</td>\n",
       "      <td>0.665567</td>\n",
       "      <td>0.401</td>\n",
       "    </tr>\n",
       "    <tr>\n",
       "      <th>4726</th>\n",
       "      <td>0.0</td>\n",
       "      <td>0.0</td>\n",
       "      <td>0.185112</td>\n",
       "      <td>0.214218</td>\n",
       "      <td>0.331334</td>\n",
       "      <td>0.132846</td>\n",
       "      <td>0.499987</td>\n",
       "      <td>0.655024</td>\n",
       "      <td>0.394</td>\n",
       "    </tr>\n",
       "  </tbody>\n",
       "</table>\n",
       "<p>4727 rows × 9 columns</p>\n",
       "</div>"
      ],
      "text/plain": [
       "      Depth  Rate      SPPG      DPPG   ETpeaks  ITPpeaks  PPG_Area  \\\n",
       "0       0.0   0.0  0.172589  0.178529  0.315266  0.133802  0.500085   \n",
       "1       0.0   0.0  0.156359  0.211896  0.315266  0.128295  0.500026   \n",
       "2       0.0   0.0  0.175741  0.214243  0.315266  0.123927  0.499955   \n",
       "3       0.0   0.0  0.206375  0.191000  0.315266  0.220838  0.499927   \n",
       "4       0.0   0.0  0.212921  0.172863  0.305716  0.540942  0.499977   \n",
       "...     ...   ...       ...       ...       ...       ...       ...   \n",
       "4722    0.0   0.0  0.237774  0.226020  0.331334  0.473879  0.499985   \n",
       "4723    0.0   0.0  0.227160  0.222552  0.331334  0.605013  0.500020   \n",
       "4724    0.0   0.0  0.209170  0.229322  0.331334  0.185222  0.500001   \n",
       "4725    0.0   0.0  0.200880  0.203630  0.331334  0.146878  0.499984   \n",
       "4726    0.0   0.0  0.185112  0.214218  0.331334  0.132846  0.499987   \n",
       "\n",
       "      PPG Difference  PPG Time Difference  \n",
       "0           0.664291                0.378  \n",
       "1           0.644452                0.361  \n",
       "2           0.651266                0.197  \n",
       "3           0.672817                0.362  \n",
       "4           0.682690                0.384  \n",
       "...              ...                  ...  \n",
       "4722        0.671368                0.405  \n",
       "4723        0.668510                0.415  \n",
       "4724        0.658606                0.408  \n",
       "4725        0.665567                0.401  \n",
       "4726        0.655024                0.394  \n",
       "\n",
       "[4727 rows x 9 columns]"
      ]
     },
     "execution_count": 31,
     "metadata": {},
     "output_type": "execute_result"
    }
   ],
   "source": [
    "External_Test_X"
   ]
  },
  {
   "cell_type": "code",
   "execution_count": 32,
   "id": "178947c2",
   "metadata": {},
   "outputs": [
    {
     "name": "stdout",
     "output_type": "stream",
     "text": [
      "(4727, 9)\n",
      "(4727, 1)\n"
     ]
    }
   ],
   "source": [
    "print(External_Test_X.shape)\n",
    "print(External_Test_Y.shape)"
   ]
  },
  {
   "cell_type": "code",
   "execution_count": 33,
   "id": "e9530b89",
   "metadata": {},
   "outputs": [
    {
     "name": "stdout",
     "output_type": "stream",
     "text": [
      "####### Data  #######\n",
      "External Test set:  (array([0., 1.]), array([ 300, 4427], dtype=int64))\n"
     ]
    }
   ],
   "source": [
    "print('####### Data  #######')\n",
    "print('External Test set: ',np.unique(External_Test_Y,return_counts=True))       # Data 구성 확인 "
   ]
  },
  {
   "cell_type": "code",
   "execution_count": 34,
   "id": "e788561d",
   "metadata": {},
   "outputs": [],
   "source": [
    "# Model 읽기\n",
    "import sklearn.externals\n",
    "import joblib\n",
    "model = joblib.load('CarotidVolume_Classification_SVM_Binary_AddRobot_Range_Non_Invasive_0.68.pkl')"
   ]
  },
  {
   "cell_type": "code",
   "execution_count": 35,
   "id": "b157c78f",
   "metadata": {},
   "outputs": [
    {
     "data": {
      "text/plain": [
       "SVC(C=1000, gamma=1, probability=True, random_state=156)"
      ]
     },
     "execution_count": 35,
     "metadata": {},
     "output_type": "execute_result"
    }
   ],
   "source": [
    "model"
   ]
  },
  {
   "cell_type": "code",
   "execution_count": 36,
   "id": "1c544d0e",
   "metadata": {},
   "outputs": [
    {
     "name": "stderr",
     "output_type": "stream",
     "text": [
      "C:\\Users\\user\\anaconda3\\envs\\jun\\lib\\site-packages\\sklearn\\base.py:444: UserWarning: X has feature names, but SVC was fitted without feature names\n",
      "  f\"X has feature names, but {self.__class__.__name__} was fitted without\"\n"
     ]
    }
   ],
   "source": [
    "# Model 불러오기\n",
    "prediction = model.predict_proba(External_Test_X)"
   ]
  },
  {
   "cell_type": "code",
   "execution_count": 37,
   "id": "301e153d",
   "metadata": {},
   "outputs": [
    {
     "data": {
      "text/plain": [
       "array([0.14505773, 0.08840141, 0.55915268, ..., 0.15942175, 0.16762465,\n",
       "       0.09031521])"
      ]
     },
     "execution_count": 37,
     "metadata": {},
     "output_type": "execute_result"
    }
   ],
   "source": [
    "prediction[:,1]"
   ]
  },
  {
   "cell_type": "code",
   "execution_count": 38,
   "id": "7e7b4f59",
   "metadata": {},
   "outputs": [
    {
     "name": "stdout",
     "output_type": "stream",
     "text": [
      "[0, 0, 1, 1, 0, 0, 0, 0, 0, 0]\n"
     ]
    }
   ],
   "source": [
    "# Best Threshold\n",
    "\n",
    "# 0.43274248744230015   - 0.68\n",
    "\n",
    "y_preds = [1 if x>0.43274248744230015 else 0 for x in prediction[:,1]]\n",
    "print(y_preds[:10])"
   ]
  },
  {
   "cell_type": "code",
   "execution_count": 39,
   "id": "95ea8463",
   "metadata": {
    "scrolled": true
   },
   "outputs": [
    {
     "data": {
      "text/plain": [
       "array([[1.],\n",
       "       [1.],\n",
       "       [1.],\n",
       "       ...,\n",
       "       [1.],\n",
       "       [1.],\n",
       "       [1.]])"
      ]
     },
     "execution_count": 39,
     "metadata": {},
     "output_type": "execute_result"
    }
   ],
   "source": [
    "Answer_0907"
   ]
  },
  {
   "cell_type": "code",
   "execution_count": 40,
   "id": "738cf051",
   "metadata": {},
   "outputs": [
    {
     "data": {
      "text/plain": [
       "array([[1., 1., 1., ..., 1., 1., 1.]])"
      ]
     },
     "execution_count": 40,
     "metadata": {},
     "output_type": "execute_result"
    }
   ],
   "source": [
    "np.transpose(np.array(Answer_0907))"
   ]
  },
  {
   "cell_type": "code",
   "execution_count": 41,
   "id": "2492261b",
   "metadata": {},
   "outputs": [],
   "source": [
    "prediction  = y_preds"
   ]
  },
  {
   "cell_type": "code",
   "execution_count": 42,
   "id": "4ddca675",
   "metadata": {},
   "outputs": [],
   "source": [
    "Answer_Data_0907_phase2_real = Answer_0907\n",
    "prediction_real = prediction"
   ]
  },
  {
   "cell_type": "code",
   "execution_count": 43,
   "id": "cf93b978",
   "metadata": {},
   "outputs": [
    {
     "name": "stdout",
     "output_type": "stream",
     "text": [
      "####### Data  #######\n",
      "External Test set:  (array([0., 1.]), array([ 300, 4427], dtype=int64))\n"
     ]
    }
   ],
   "source": [
    "print('####### Data  #######')\n",
    "print('External Test set: ',np.unique(Answer_Data_0907_phase2_real,return_counts=True))       # Data 구성 확인 "
   ]
  },
  {
   "cell_type": "code",
   "execution_count": 44,
   "id": "e52e286d",
   "metadata": {},
   "outputs": [
    {
     "data": {
      "text/plain": [
       "array([[1.],\n",
       "       [1.],\n",
       "       [1.],\n",
       "       ...,\n",
       "       [1.],\n",
       "       [1.],\n",
       "       [1.]])"
      ]
     },
     "execution_count": 44,
     "metadata": {},
     "output_type": "execute_result"
    }
   ],
   "source": [
    "Answer_Data_0907_phase2_real"
   ]
  },
  {
   "cell_type": "code",
   "execution_count": 45,
   "id": "5fd0dc38",
   "metadata": {},
   "outputs": [],
   "source": [
    "from sklearn.metrics import accuracy_score, precision_score, recall_score, confusion_matrix, f1_score, roc_curve, roc_auc_score\n",
    "from sklearn.metrics import classification_report\n",
    "from sklearn.metrics import ConfusionMatrixDisplay\n",
    "\n",
    "def get_CarotidModel_eval(y_real, prediction):\n",
    "    confusion = confusion_matrix(y_real,prediction)\n",
    "    accuracy = accuracy_score(y_real,prediction)\n",
    "    precision = precision_score(y_real,prediction,average='weighted')\n",
    "    recall = recall_score(y_real,prediction,average='weighted')\n",
    "    print(classification_report(y_real, prediction))\n",
    "    print('Confusion Matrix')\n",
    "    print(confusion)\n",
    "    print('정확도:{}, 정밀도:{}, 재현율:{}'.format(accuracy, precision, recall))\n",
    "    print('F1_Score: ', 2*(precision*recall)/(precision+recall))"
   ]
  },
  {
   "cell_type": "code",
   "execution_count": 46,
   "id": "8f618798",
   "metadata": {},
   "outputs": [
    {
     "name": "stdout",
     "output_type": "stream",
     "text": [
      "              precision    recall  f1-score   support\n",
      "\n",
      "         0.0       0.00      0.03      0.01       300\n",
      "         1.0       0.90      0.59      0.71      4427\n",
      "\n",
      "    accuracy                           0.55      4727\n",
      "   macro avg       0.45      0.31      0.36      4727\n",
      "weighted avg       0.84      0.55      0.67      4727\n",
      "\n",
      "Confusion Matrix\n",
      "[[   9  291]\n",
      " [1813 2614]]\n",
      "정확도:0.5548973979268035, 정밀도:0.8430336208802359, 재현율:0.5548973979268035\n",
      "F1_Score:  0.6692707383951765\n",
      "None\n"
     ]
    }
   ],
   "source": [
    "# Carotid Only result\n",
    "print(get_CarotidModel_eval(Answer_Data_0907_phase2_real,prediction_real))\n",
    "\n",
    "confusion = confusion_matrix(Answer_Data_0907_phase2_real,prediction_real)\n"
   ]
  },
  {
   "cell_type": "code",
   "execution_count": 47,
   "id": "a5457304",
   "metadata": {},
   "outputs": [
    {
     "data": {
      "text/plain": [
       "Text(29.0, 0.5, 'True')"
      ]
     },
     "execution_count": 47,
     "metadata": {},
     "output_type": "execute_result"
    },
    {
     "data": {
      "image/png": "[encoded data removed]",
      "text/plain": [
       "<Figure size 432x360 with 2 Axes>"
      ]
     },
     "metadata": {
      "needs_background": "light"
     },
     "output_type": "display_data"
    }
   ],
   "source": [
    "from sklearn.metrics import confusion_matrix, plot_confusion_matrix, ConfusionMatrixDisplay\n",
    "import seaborn as sns\n",
    "\n",
    "# 폰트 설정을 먼저 적용\n",
    "plt.rc('font', family='Arial', size=15)        \n",
    "plt.rc('axes', labelsize=15)   \n",
    "plt.rc('xtick', labelsize=15)  \n",
    "plt.rc('ytick', labelsize=15)\n",
    "\n",
    "# 실제 Confusion Matrix (count 기준)\n",
    "conf_matrix_counts = confusion_matrix(Answer_Data_0907_phase2_real, prediction_real, labels=[0, 1])\n",
    "\n",
    "# Normalized Confusion Matrix\n",
    "conf_matrix_normalized = confusion_matrix(Answer_Data_0907_phase2_real, prediction_real, labels=[0, 1], normalize='true')\n",
    "\n",
    "# 주석(annotation)에 퍼센트 + count 추가\n",
    "labels = np.array([\n",
    "    [f\"{conf_matrix_normalized[i, j]:.2f}\\n({conf_matrix_counts[i, j]})\" for j in range(2)]\n",
    "    for i in range(2)\n",
    "])\n",
    "\n",
    "# 사용자 정의 레이블 (숫자 대신 'Under', 'Over' 사용)\n",
    "class_names = ['Under', 'Over']\n",
    "\n",
    "# 시각화\n",
    "plt.figure(figsize=(6, 5))  # 그래프 크기 설정\n",
    "sns.heatmap(conf_matrix_normalized, annot=labels, fmt=\"\", cmap='Blues', linewidths=0.5, linecolor='black',\n",
    "            xticklabels=class_names, yticklabels=class_names) \n",
    "\n",
    "plt.xlabel('Predicted')\n",
    "plt.ylabel('True')\n",
    "#plt.title('Normalized Confusion Matrix with Sample Counts')\n",
    "\n",
    "#plt.savefig(\"SVM_Non-InvasiveConfusionMatrix_arial.tiff\", dpi=600, bbox_inches='tight')\n"
   ]
  },
  {
   "cell_type": "code",
   "execution_count": 48,
   "id": "a1848148",
   "metadata": {
    "scrolled": true
   },
   "outputs": [
    {
     "data": {
      "image/png": "[encoded data removed]",
      "text/plain": [
       "<Figure size 432x288 with 2 Axes>"
      ]
     },
     "metadata": {
      "needs_background": "light"
     },
     "output_type": "display_data"
    }
   ],
   "source": [
    "from sklearn.metrics import confusion_matrix, plot_confusion_matrix, ConfusionMatrixDisplay\n",
    "\n",
    "label = ['Under', 'Over']\n",
    "\n",
    "\n",
    "confusion = confusion_matrix(Answer_Data_0907_phase2_real,prediction_real)\n",
    "\n",
    "disp = ConfusionMatrixDisplay(confusion_matrix = confusion,\n",
    "                              display_labels = label\n",
    "                             )\n",
    "\n",
    "plt.rc('font',family='arial', size=12)        # 기본 폰트 크기\n",
    "plt.rc('axes', labelsize=12)   # x,y축 label 폰트 크기\n",
    "plt.rc('xtick', labelsize=12)  # x축 눈금 폰트 크기 \n",
    "plt.rc('ytick', labelsize=12)  # y축 눈금 폰트 크기\n",
    "disp.plot()\n",
    "\n",
    "plt.tight_layout()  # 레이아웃 조정\n",
    "#plt.savefig(\"SVM_Non-InvasiveConfusionMatrix_arial.tiff\", dpi=600, bbox_inches='tight')\n",
    "plt.show()  # 플롯을 화면에 표시"
   ]
  },
  {
   "cell_type": "code",
   "execution_count": 49,
   "id": "6144621c",
   "metadata": {},
   "outputs": [
    {
     "name": "stdout",
     "output_type": "stream",
     "text": [
      "\n",
      "Accuracy: 0.55\n",
      "\n",
      "Micro Precision: 0.55\n",
      "Micro Recall: 0.55\n",
      "Micro F1-score: 0.55\n",
      "\n",
      "Macro Precision: 0.45\n",
      "Macro Recall: 0.31\n",
      "Macro F1-score: 0.36\n",
      "\n",
      "Weighted Precision: 0.84\n",
      "Weighted Recall: 0.55\n",
      "Weighted F1-score: 0.67\n",
      "\n",
      "Classification Report\n",
      "\n",
      "              precision    recall  f1-score   support\n",
      "\n",
      "       Under       0.00      0.03      0.01       300\n",
      "        Over       0.90      0.59      0.71      4427\n",
      "\n",
      "    accuracy                           0.55      4727\n",
      "   macro avg       0.45      0.31      0.36      4727\n",
      "weighted avg       0.84      0.55      0.67      4727\n",
      "\n"
     ]
    }
   ],
   "source": [
    "#importing accuracy_score, precision_score, recall_score, f1_score\n",
    "from sklearn.metrics import accuracy_score, precision_score, recall_score, f1_score\n",
    "print('\\nAccuracy: {:.2f}\\n'.format(accuracy_score(Answer_Data_0907_phase2_real,prediction_real)))\n",
    "\n",
    "print('Micro Precision: {:.2f}'.format(precision_score(Answer_Data_0907_phase2_real,prediction_real, average='micro')))\n",
    "print('Micro Recall: {:.2f}'.format(recall_score(Answer_Data_0907_phase2_real,prediction_real, average='micro')))\n",
    "print('Micro F1-score: {:.2f}\\n'.format(f1_score(Answer_Data_0907_phase2_real,prediction_real, average='micro')))\n",
    "\n",
    "print('Macro Precision: {:.2f}'.format(precision_score(Answer_Data_0907_phase2_real,prediction_real, average='macro')))\n",
    "print('Macro Recall: {:.2f}'.format(recall_score(Answer_Data_0907_phase2_real,prediction_real, average='macro')))\n",
    "print('Macro F1-score: {:.2f}\\n'.format(f1_score(Answer_Data_0907_phase2_real,prediction_real, average='macro')))\n",
    "\n",
    "print('Weighted Precision: {:.2f}'.format(precision_score(Answer_Data_0907_phase2_real,prediction_real, average='weighted')))\n",
    "print('Weighted Recall: {:.2f}'.format(recall_score(Answer_Data_0907_phase2_real,prediction_real, average='weighted')))\n",
    "print('Weighted F1-score: {:.2f}'.format(f1_score(Answer_Data_0907_phase2_real,prediction_real, average='weighted')))\n",
    "\n",
    "from sklearn.metrics import classification_report\n",
    "print('\\nClassification Report\\n')\n",
    "print(classification_report(Answer_Data_0907_phase2_real,prediction_real, target_names = ['Under','Over']))"
   ]
  },
  {
   "cell_type": "code",
   "execution_count": 50,
   "id": "69fb00c5",
   "metadata": {},
   "outputs": [
    {
     "name": "stderr",
     "output_type": "stream",
     "text": [
      "C:\\Users\\user\\anaconda3\\envs\\jun\\lib\\site-packages\\sklearn\\base.py:444: UserWarning: X has feature names, but SVC was fitted without feature names\n",
      "  f\"X has feature names, but {self.__class__.__name__} was fitted without\"\n"
     ]
    }
   ],
   "source": [
    "fprs1,tprs1,thresholds1 = roc_curve(Answer_Data_0907_phase2_real, model.predict_proba(External_Test_X)[:,1])"
   ]
  },
  {
   "cell_type": "code",
   "execution_count": 51,
   "id": "10ebdb9f",
   "metadata": {},
   "outputs": [
    {
     "name": "stdout",
     "output_type": "stream",
     "text": [
      "Roc AUC Curve 0.31023379263609663\n"
     ]
    }
   ],
   "source": [
    "print('Roc AUC Curve {}'.format(roc_auc_score(Answer_Data_0907_phase2_real,prediction_real)))"
   ]
  },
  {
   "cell_type": "code",
   "execution_count": 52,
   "id": "dea3a955",
   "metadata": {},
   "outputs": [
    {
     "data": {
      "image/png": "[encoded data removed]",
      "text/plain": [
       "<Figure size 648x504 with 1 Axes>"
      ]
     },
     "metadata": {
      "needs_background": "light"
     },
     "output_type": "display_data"
    }
   ],
   "source": [
    "plt.figure(figsize=(9,7))\n",
    "plt.plot(fprs1, tprs1, color='blue', linestyle='--', lw=2)\n",
    "plt.plot([0, 1], [0, 1], color='black', lw=2)\n",
    "plt.xlabel('FPR (False Positive Rate)')\n",
    "plt.ylabel('TPR (True Positive Rate)')\n",
    "#plt.legend(loc='lower right')\n",
    "plt.grid()\n",
    "\n",
    "plt.rc('font',family='arial', size=25)       # 기본 폰트 크기\n",
    "plt.rc('axes', labelsize=25)   # x,y축 label 폰트 크기\n",
    "plt.rc('xtick', labelsize=25)  # x축 눈금 폰트 크기 \n",
    "plt.rc('ytick', labelsize=25)  # y축 눈금 폰트 크기\n",
    "#plt.rc('legend', fontsize=20)  # 범례 폰트 크기\n",
    "#plt.rc('figure', titlesize=25) # figure title 폰트 크기\n",
    "\n",
    "plt.savefig(\"SVM_Non-InvasiveRocCurve25.tiff\", dpi=300)"
   ]
  },
  {
   "cell_type": "code",
   "execution_count": null,
   "id": "b02213b9",
   "metadata": {},
   "outputs": [],
   "source": []
  },
  {
   "cell_type": "code",
   "execution_count": null,
   "id": "77fd9c5a",
   "metadata": {},
   "outputs": [],
   "source": []
  },
  {
   "cell_type": "code",
   "execution_count": null,
   "id": "e78d2431",
   "metadata": {},
   "outputs": [],
   "source": []
  }
 ],
 "metadata": {
  "kernelspec": {
   "display_name": "Python [conda env:jun] *",
   "language": "python",
   "name": "conda-env-jun-py"
  },
  "language_info": {
   "codemirror_mode": {
    "name": "ipython",
    "version": 3
   },
   "file_extension": ".py",
   "mimetype": "text/x-python",
   "name": "python",
   "nbconvert_exporter": "python",
   "pygments_lexer": "ipython3",
   "version": "3.7.11"
  }
 },
 "nbformat": 4,
 "nbformat_minor": 5
}
